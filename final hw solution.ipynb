{
  "nbformat": 4,
  "nbformat_minor": 0,
  "metadata": {
    "kernelspec": {
      "name": "python394jvsc74a57bd04cd7ab41f5fca4b9b44701077e38c5ffd31fe66a6cab21e0214b68d958d0e462",
      "display_name": "Python 3.9.4 64-bit"
    },
    "language_info": {
      "codemirror_mode": {
        "name": "ipython",
        "version": 3
      },
      "file_extension": ".py",
      "mimetype": "text/x-python",
      "name": "python",
      "nbconvert_exporter": "python",
      "pygments_lexer": "ipython3",
      "version": "3.9.4"
    },
    "metadata": {
      "interpreter": {
        "hash": "4cd7ab41f5fca4b9b44701077e38c5ffd31fe66a6cab21e0214b68d958d0e462"
      }
    },
    "colab": {
      "name": "kunanon solution.ipynb",
      "provenance": []
    }
  },
  "cells": [
    {
      "cell_type": "markdown",
      "metadata": {
        "id": "EmCKNzmFovYZ"
      },
      "source": [
        "<a href=\"https://colab.research.google.com/github/dewdotninja/exams/blob/master/final01211421_20_solution.ipynb\" target=\"_parent\"><img src=\"https://colab.research.google.com/assets/colab-badge.svg\" alt=\"Open In Colab\"/></a>"
      ]
    },
    {
      "cell_type": "markdown",
      "metadata": {
        "id": "I3Q7Zt9ZovYa"
      },
      "source": [
        "<p align=\"left\">\n",
        "<img src=\"https://raw.githubusercontent.com/dewdotninja/exams/main/feng_heading.png\" width=400 alt=\"Feng heading\"/>\n",
        "</p>\n",
        "\n",
        "#### ข้อสอบปลายภาค ประจำภาคปลาย ปีการศึกษา 2563\n",
        "<br>สาขาวิศวกรรมไฟฟ้าเครื่องกลการผลิต\n",
        "<br>วิชา 01211421 Embedded systems for industrial control หมู่เรียน 1, 250\n",
        "<br>วันศุกร์ที่ 9 เมษายน 2564 09.00-12.00 ทางออนไลน์\n",
        "\n",
        "ให้นิสิตพิมพ์ ชื่อ นามสกุล รหัสนิสิต หมู่เรียน ในเซลด้านล่างนี้ "
      ]
    },
    {
      "cell_type": "code",
      "metadata": {
        "id": "5Vv09yarovYb"
      },
      "source": [
        "นายเฉลย ข้อสอบ รหัส 6010506258 "
      ],
      "execution_count": null,
      "outputs": []
    },
    {
      "cell_type": "markdown",
      "metadata": {
        "id": "t0AAvgGYovYc"
      },
      "source": [
        "### คำสั่ง\n",
        "\n",
        "1. ข้อสอบมี  ข้อ ให้ทำในไฟล์ notebook นี้ทั้งหมด โดยสามารถเพิ่มเซลได้ตามต้องการ \n",
        "2. เป็นแบบเปิดตำรา ใช้หนังสือหรือข้อมูลออนไลน์ได้ไม่จำกัด\n",
        "3. อธิบายและแสดงการคำนวณให้ชัดเจน สำหรับโจทย์ที่ต้องเขียนโปรแกรมแก้ปัญหา โปรแกรมต้องประมวลผลได้โดยไม่มีข้อผิดพลาดและให้คำตอบถูกต้องจึงได้คะแนนเต็ม\n",
        "4. ห้ามแก้ไขโจทย์โดยเด็ดขาด ผู้ที่แก้โจทย์จะได้คะแนนข้อนั้นเป็นศูนย์\n",
        "5. พารามิเตอร์ในโจทย์บางข้อขึ้นกับตัวเลข 3 หลักสุดท้ายของรหัสนิสิตของผู้ทำข้อสอบ ซึ่งจะต้องแทนค่าอย่างถูกต้องเท่านั้น (ดูคำอธิบายเพิ่มเติมด้านล่าง) \n",
        "6. สำหรับข้อที่โจทย์ให้เขียนโปรแกรม ถ้าจะใช้ซอฟต์แวร์อื่น อนุญาตเฉพาะ Scilab หรือ MATLAB เท่านั้น และจะต้องนำโค้ดที่สมบูรณ์มาใส่ในเซลเพื่อผู้ตรวจ\n",
        "สามารถตรวจสอบได้โดยง่าย <b>พร้อม capture ภาพที่แสดงคำตอบหรือกราฟมาวางโดยใช้ img tag โดยภาพอยู่ในลิงก์ URL สาธารณะ </b> ทั้งนี้เนื่องจาก\n",
        "เป็นกรรมวิธีที่ยุ่งยากและเสียเวลาขอแนะนำให้เขียนโค้ดทั้งหมดโดยใช้ภาษา Python บน Jupyter notebook\n"
      ]
    },
    {
      "cell_type": "markdown",
      "metadata": {
        "id": "5pziI32bovYc"
      },
      "source": [
        "<div align=\"center\">\n",
        "<b>รศ.ดร.พีรยุทธ์ ชาญเศรษฐิกุล</b>\t\t\tประธานกรรมการอำนวยการสอบ\n",
        "<br><b>ผศ.ดร.ประพจน์ ขุนทอง</b>\t\t\t\tกรรมการออกข้อสอบ\n",
        "<br><b>ดร.วโรดม ตู้จินดา</b>\t\t\t\t\tกรรมการออกข้อสอบ\n",
        "</div>\n"
      ]
    },
    {
      "cell_type": "markdown",
      "metadata": {
        "id": "gJhLcAt9ovYd"
      },
      "source": [
        "***\n",
        "### คะแนนของโจทย์ข้อสอบแต่ละข้อ (รวม 100 คะแนน)\n",
        "\n",
        "| โจทย์ข้อสอบ | คะแนน |\n",
        "| --- | --- |\n",
        "| [1 ](#p1) | (20 คะแนน) |\n",
        "| [2 ](#p2) | (30 คะแนน) |\n",
        "| [3 ](#p3) | (10 คะแนน) |\n",
        "| [4 ](#p4) | (20 คะแนน) |\n",
        "| [5 ](#p5) | (20 คะแนน) |\n"
      ]
    },
    {
      "cell_type": "markdown",
      "metadata": {
        "id": "iPwp7TakovYd"
      },
      "source": [
        "### อธิบายเพิ่มเติมเกี่ยวกับค่าในโจทย์ข้อสอบ ที่ขึ้นกับตัวเลข 3 ตัวสุดท้ายของรหัสนิสิต คือ\n",
        "\n",
        "-------xyz  (ไม่สนใจเลขหลักอื่น )\n",
        "\n",
        "ถ้าตัวเลขตัวใดใน 3 หลักสุดท้ายเป็น 0 ให้แทนด้วยเลข 1 \n",
        "\n",
        "ตัวอย่างรหัสนิสิต\n",
        "\n",
        "นิสิต A : 6010552893  ได้ค่า x = 8, y = 9, z = 3\n",
        "\n",
        "นิสิต B : 6010502977  ได้ค่า x = 9, y = 7, z = 7\n",
        "\n",
        "นิสิต C : 6010503001 ได้ค่า x = 1, y = 1, z = 1\n",
        "\n",
        "ใช้ค่านี้กับโจทย์ทุกข้อในข้อสอบ\n",
        "\n",
        "เครื่องหมายที่ใช้ดำเนินการกับค่าตัวแปร\n",
        "\n",
        " $+$ บวก\n",
        "\n",
        " $-$  ลบ\n",
        "\n",
        " $*$  คูณ \n",
        "\n",
        " $/$ หาร\n",
        "\n",
        "$**$ ยกกำลัง\n",
        "\n",
        "รวมถึงฟังก์ชันทางคณิตศาสตร์ เช่น $\\exp(x)$, $\\sin(z*t)$\n",
        "\n",
        "หากตัวแปรฝังอยู่ในหลักหนึ่งของตัวเลข ให้แทนหลักนั้นด้วยค่าตัวแปรเลย เช่น x=8 y = 3, 12x7 = 1287, 4.3y5 = 4.335\n",
        "\n",
        "โจทย์อาจจำหนดเงื่อนไขขึ้นกับ x, y, z เช่น ถ้า x<5 ทำเงื่อนไข A นอกนั้นทำเงื่อนไข B \n",
        "\n",
        "ตัวอย่างโจทย์บอกว่า กำหนดให้ $R1 = 1000*x \\,\\Omega, C1 = 10*y \\,\\mu F$\n",
        "\n",
        "นิสิต A ทำโจทย์ด้วยค่า R1 = 8000 $\\Omega$, C1 = 90 $\\mu$F\n",
        "\n",
        "นิสิต B ทำโจทย์ด้วยค่า R1 = 9000 $\\Omega$, C1 = 70 $\\mu$F\n",
        "\n",
        "นิสิต C ทำโจทย์ด้วยค่า R1 = 1000 $\\Omega$, C1 = 10 $\\mu$F\n",
        "\n",
        "ถ้ามีตรงส่วนใดที่ไม่ชัดเจนในข้อสอบ ให้เขียนอธิบายว่าเข้าใจโจทย์อย่างไร หากผู้ตรวจเห็นว่าโจทย์เป็นเหตุทำให้เข้าใจผิดได้ จะให้คะแนนในส่วนนั้น"
      ]
    },
    {
      "cell_type": "code",
      "metadata": {
        "colab": {
          "base_uri": "https://localhost:8080/"
        },
        "id": "xNx6H7rcovYe",
        "outputId": "d371f7b5-3184-4371-af27-92da291fdb01"
      },
      "source": [
        "#หากใช้ Colab ทำข้อสอบ ต้องติดตั้งไลบรารีเพิ่ม\n",
        "!pip install slycot\n",
        "!pip install control"
      ],
      "execution_count": null,
      "outputs": [
        {
          "output_type": "stream",
          "text": [
            "Collecting slycot\n",
            "\u001b[?25l  Downloading https://files.pythonhosted.org/packages/85/21/4e7110462f3529b2fbcff8a519b61bf64e0604b8fcbe9a07649c9bed9d7a/slycot-0.4.0.0.tar.gz (1.5MB)\n",
            "\r\u001b[K     |▏                               | 10kB 16.9MB/s eta 0:00:01\r\u001b[K     |▍                               | 20kB 23.8MB/s eta 0:00:01\r\u001b[K     |▋                               | 30kB 25.2MB/s eta 0:00:01\r\u001b[K     |▉                               | 40kB 20.6MB/s eta 0:00:01\r\u001b[K     |█                               | 51kB 23.2MB/s eta 0:00:01\r\u001b[K     |█▎                              | 61kB 15.9MB/s eta 0:00:01\r\u001b[K     |█▌                              | 71kB 16.8MB/s eta 0:00:01\r\u001b[K     |█▊                              | 81kB 17.1MB/s eta 0:00:01\r\u001b[K     |██                              | 92kB 15.2MB/s eta 0:00:01\r\u001b[K     |██▏                             | 102kB 16.4MB/s eta 0:00:01\r\u001b[K     |██▎                             | 112kB 16.4MB/s eta 0:00:01\r\u001b[K     |██▌                             | 122kB 16.4MB/s eta 0:00:01\r\u001b[K     |██▊                             | 133kB 16.4MB/s eta 0:00:01\r\u001b[K     |███                             | 143kB 16.4MB/s eta 0:00:01\r\u001b[K     |███▏                            | 153kB 16.4MB/s eta 0:00:01\r\u001b[K     |███▍                            | 163kB 16.4MB/s eta 0:00:01\r\u001b[K     |███▋                            | 174kB 16.4MB/s eta 0:00:01\r\u001b[K     |███▉                            | 184kB 16.4MB/s eta 0:00:01\r\u001b[K     |████                            | 194kB 16.4MB/s eta 0:00:01\r\u001b[K     |████▎                           | 204kB 16.4MB/s eta 0:00:01\r\u001b[K     |████▌                           | 215kB 16.4MB/s eta 0:00:01\r\u001b[K     |████▋                           | 225kB 16.4MB/s eta 0:00:01\r\u001b[K     |████▉                           | 235kB 16.4MB/s eta 0:00:01\r\u001b[K     |█████                           | 245kB 16.4MB/s eta 0:00:01\r\u001b[K     |█████▎                          | 256kB 16.4MB/s eta 0:00:01\r\u001b[K     |█████▌                          | 266kB 16.4MB/s eta 0:00:01\r\u001b[K     |█████▊                          | 276kB 16.4MB/s eta 0:00:01\r\u001b[K     |██████                          | 286kB 16.4MB/s eta 0:00:01\r\u001b[K     |██████▏                         | 296kB 16.4MB/s eta 0:00:01\r\u001b[K     |██████▍                         | 307kB 16.4MB/s eta 0:00:01\r\u001b[K     |██████▋                         | 317kB 16.4MB/s eta 0:00:01\r\u001b[K     |██████▉                         | 327kB 16.4MB/s eta 0:00:01\r\u001b[K     |███████                         | 337kB 16.4MB/s eta 0:00:01\r\u001b[K     |███████▏                        | 348kB 16.4MB/s eta 0:00:01\r\u001b[K     |███████▍                        | 358kB 16.4MB/s eta 0:00:01\r\u001b[K     |███████▋                        | 368kB 16.4MB/s eta 0:00:01\r\u001b[K     |███████▉                        | 378kB 16.4MB/s eta 0:00:01\r\u001b[K     |████████                        | 389kB 16.4MB/s eta 0:00:01\r\u001b[K     |████████▎                       | 399kB 16.4MB/s eta 0:00:01\r\u001b[K     |████████▌                       | 409kB 16.4MB/s eta 0:00:01\r\u001b[K     |████████▊                       | 419kB 16.4MB/s eta 0:00:01\r\u001b[K     |█████████                       | 430kB 16.4MB/s eta 0:00:01\r\u001b[K     |█████████                       | 440kB 16.4MB/s eta 0:00:01\r\u001b[K     |█████████▎                      | 450kB 16.4MB/s eta 0:00:01\r\u001b[K     |█████████▌                      | 460kB 16.4MB/s eta 0:00:01\r\u001b[K     |█████████▊                      | 471kB 16.4MB/s eta 0:00:01\r\u001b[K     |██████████                      | 481kB 16.4MB/s eta 0:00:01\r\u001b[K     |██████████▏                     | 491kB 16.4MB/s eta 0:00:01\r\u001b[K     |██████████▍                     | 501kB 16.4MB/s eta 0:00:01\r\u001b[K     |██████████▋                     | 512kB 16.4MB/s eta 0:00:01\r\u001b[K     |██████████▉                     | 522kB 16.4MB/s eta 0:00:01\r\u001b[K     |███████████                     | 532kB 16.4MB/s eta 0:00:01\r\u001b[K     |███████████▎                    | 542kB 16.4MB/s eta 0:00:01\r\u001b[K     |███████████▍                    | 552kB 16.4MB/s eta 0:00:01\r\u001b[K     |███████████▋                    | 563kB 16.4MB/s eta 0:00:01\r\u001b[K     |███████████▉                    | 573kB 16.4MB/s eta 0:00:01\r\u001b[K     |████████████                    | 583kB 16.4MB/s eta 0:00:01\r\u001b[K     |████████████▎                   | 593kB 16.4MB/s eta 0:00:01\r\u001b[K     |████████████▌                   | 604kB 16.4MB/s eta 0:00:01\r\u001b[K     |████████████▊                   | 614kB 16.4MB/s eta 0:00:01\r\u001b[K     |█████████████                   | 624kB 16.4MB/s eta 0:00:01\r\u001b[K     |█████████████▏                  | 634kB 16.4MB/s eta 0:00:01\r\u001b[K     |█████████████▍                  | 645kB 16.4MB/s eta 0:00:01\r\u001b[K     |█████████████▋                  | 655kB 16.4MB/s eta 0:00:01\r\u001b[K     |█████████████▊                  | 665kB 16.4MB/s eta 0:00:01\r\u001b[K     |██████████████                  | 675kB 16.4MB/s eta 0:00:01\r\u001b[K     |██████████████▏                 | 686kB 16.4MB/s eta 0:00:01\r\u001b[K     |██████████████▍                 | 696kB 16.4MB/s eta 0:00:01\r\u001b[K     |██████████████▋                 | 706kB 16.4MB/s eta 0:00:01\r\u001b[K     |██████████████▉                 | 716kB 16.4MB/s eta 0:00:01\r\u001b[K     |███████████████                 | 727kB 16.4MB/s eta 0:00:01\r\u001b[K     |███████████████▎                | 737kB 16.4MB/s eta 0:00:01\r\u001b[K     |███████████████▌                | 747kB 16.4MB/s eta 0:00:01\r\u001b[K     |███████████████▊                | 757kB 16.4MB/s eta 0:00:01\r\u001b[K     |████████████████                | 768kB 16.4MB/s eta 0:00:01\r\u001b[K     |████████████████                | 778kB 16.4MB/s eta 0:00:01\r\u001b[K     |████████████████▎               | 788kB 16.4MB/s eta 0:00:01\r\u001b[K     |████████████████▌               | 798kB 16.4MB/s eta 0:00:01\r\u001b[K     |████████████████▊               | 808kB 16.4MB/s eta 0:00:01\r\u001b[K     |█████████████████               | 819kB 16.4MB/s eta 0:00:01\r\u001b[K     |█████████████████▏              | 829kB 16.4MB/s eta 0:00:01\r\u001b[K     |█████████████████▍              | 839kB 16.4MB/s eta 0:00:01\r\u001b[K     |█████████████████▋              | 849kB 16.4MB/s eta 0:00:01\r\u001b[K     |█████████████████▉              | 860kB 16.4MB/s eta 0:00:01\r\u001b[K     |██████████████████              | 870kB 16.4MB/s eta 0:00:01\r\u001b[K     |██████████████████▏             | 880kB 16.4MB/s eta 0:00:01\r\u001b[K     |██████████████████▍             | 890kB 16.4MB/s eta 0:00:01\r\u001b[K     |██████████████████▋             | 901kB 16.4MB/s eta 0:00:01\r\u001b[K     |██████████████████▉             | 911kB 16.4MB/s eta 0:00:01\r\u001b[K     |███████████████████             | 921kB 16.4MB/s eta 0:00:01\r\u001b[K     |███████████████████▎            | 931kB 16.4MB/s eta 0:00:01\r\u001b[K     |███████████████████▌            | 942kB 16.4MB/s eta 0:00:01\r\u001b[K     |███████████████████▊            | 952kB 16.4MB/s eta 0:00:01\r\u001b[K     |████████████████████            | 962kB 16.4MB/s eta 0:00:01\r\u001b[K     |████████████████████▏           | 972kB 16.4MB/s eta 0:00:01\r\u001b[K     |████████████████████▍           | 983kB 16.4MB/s eta 0:00:01\r\u001b[K     |████████████████████▌           | 993kB 16.4MB/s eta 0:00:01\r\u001b[K     |████████████████████▊           | 1.0MB 16.4MB/s eta 0:00:01\r\u001b[K     |█████████████████████           | 1.0MB 16.4MB/s eta 0:00:01\r\u001b[K     |█████████████████████▏          | 1.0MB 16.4MB/s eta 0:00:01\r\u001b[K     |█████████████████████▍          | 1.0MB 16.4MB/s eta 0:00:01\r\u001b[K     |█████████████████████▋          | 1.0MB 16.4MB/s eta 0:00:01\r\u001b[K     |█████████████████████▉          | 1.1MB 16.4MB/s eta 0:00:01\r\u001b[K     |██████████████████████          | 1.1MB 16.4MB/s eta 0:00:01\r\u001b[K     |██████████████████████▎         | 1.1MB 16.4MB/s eta 0:00:01\r\u001b[K     |██████████████████████▌         | 1.1MB 16.4MB/s eta 0:00:01\r\u001b[K     |██████████████████████▊         | 1.1MB 16.4MB/s eta 0:00:01\r\u001b[K     |██████████████████████▉         | 1.1MB 16.4MB/s eta 0:00:01\r\u001b[K     |███████████████████████         | 1.1MB 16.4MB/s eta 0:00:01\r\u001b[K     |███████████████████████▎        | 1.1MB 16.4MB/s eta 0:00:01\r\u001b[K     |███████████████████████▌        | 1.1MB 16.4MB/s eta 0:00:01\r\u001b[K     |███████████████████████▊        | 1.1MB 16.4MB/s eta 0:00:01\r\u001b[K     |████████████████████████        | 1.2MB 16.4MB/s eta 0:00:01\r\u001b[K     |████████████████████████▏       | 1.2MB 16.4MB/s eta 0:00:01\r\u001b[K     |████████████████████████▍       | 1.2MB 16.4MB/s eta 0:00:01\r\u001b[K     |████████████████████████▋       | 1.2MB 16.4MB/s eta 0:00:01\r\u001b[K     |████████████████████████▉       | 1.2MB 16.4MB/s eta 0:00:01\r\u001b[K     |█████████████████████████       | 1.2MB 16.4MB/s eta 0:00:01\r\u001b[K     |█████████████████████████▏      | 1.2MB 16.4MB/s eta 0:00:01\r\u001b[K     |█████████████████████████▍      | 1.2MB 16.4MB/s eta 0:00:01\r\u001b[K     |█████████████████████████▋      | 1.2MB 16.4MB/s eta 0:00:01\r\u001b[K     |█████████████████████████▉      | 1.2MB 16.4MB/s eta 0:00:01\r\u001b[K     |██████████████████████████      | 1.3MB 16.4MB/s eta 0:00:01\r\u001b[K     |██████████████████████████▎     | 1.3MB 16.4MB/s eta 0:00:01\r\u001b[K     |██████████████████████████▌     | 1.3MB 16.4MB/s eta 0:00:01\r\u001b[K     |██████████████████████████▊     | 1.3MB 16.4MB/s eta 0:00:01\r\u001b[K     |███████████████████████████     | 1.3MB 16.4MB/s eta 0:00:01\r\u001b[K     |███████████████████████████▏    | 1.3MB 16.4MB/s eta 0:00:01\r\u001b[K     |███████████████████████████▎    | 1.3MB 16.4MB/s eta 0:00:01\r\u001b[K     |███████████████████████████▌    | 1.3MB 16.4MB/s eta 0:00:01\r\u001b[K     |███████████████████████████▊    | 1.3MB 16.4MB/s eta 0:00:01\r\u001b[K     |████████████████████████████    | 1.4MB 16.4MB/s eta 0:00:01\r\u001b[K     |████████████████████████████▏   | 1.4MB 16.4MB/s eta 0:00:01\r\u001b[K     |████████████████████████████▍   | 1.4MB 16.4MB/s eta 0:00:01\r\u001b[K     |████████████████████████████▋   | 1.4MB 16.4MB/s eta 0:00:01\r\u001b[K     |████████████████████████████▉   | 1.4MB 16.4MB/s eta 0:00:01\r\u001b[K     |█████████████████████████████   | 1.4MB 16.4MB/s eta 0:00:01\r\u001b[K     |█████████████████████████████▎  | 1.4MB 16.4MB/s eta 0:00:01\r\u001b[K     |█████████████████████████████▌  | 1.4MB 16.4MB/s eta 0:00:01\r\u001b[K     |█████████████████████████████▋  | 1.4MB 16.4MB/s eta 0:00:01\r\u001b[K     |█████████████████████████████▉  | 1.4MB 16.4MB/s eta 0:00:01\r\u001b[K     |██████████████████████████████  | 1.5MB 16.4MB/s eta 0:00:01\r\u001b[K     |██████████████████████████████▎ | 1.5MB 16.4MB/s eta 0:00:01\r\u001b[K     |██████████████████████████████▌ | 1.5MB 16.4MB/s eta 0:00:01\r\u001b[K     |██████████████████████████████▊ | 1.5MB 16.4MB/s eta 0:00:01\r\u001b[K     |███████████████████████████████ | 1.5MB 16.4MB/s eta 0:00:01\r\u001b[K     |███████████████████████████████▏| 1.5MB 16.4MB/s eta 0:00:01\r\u001b[K     |███████████████████████████████▍| 1.5MB 16.4MB/s eta 0:00:01\r\u001b[K     |███████████████████████████████▋| 1.5MB 16.4MB/s eta 0:00:01\r\u001b[K     |███████████████████████████████▉| 1.5MB 16.4MB/s eta 0:00:01\r\u001b[K     |████████████████████████████████| 1.5MB 16.4MB/s eta 0:00:01\r\u001b[K     |████████████████████████████████| 1.6MB 16.4MB/s \n",
            "\u001b[?25h  Installing build dependencies ... \u001b[?25l\u001b[?25hdone\n",
            "  Getting requirements to build wheel ... \u001b[?25l\u001b[?25hdone\n",
            "    Preparing wheel metadata ... \u001b[?25l\u001b[?25hdone\n",
            "Requirement already satisfied: numpy in /usr/local/lib/python3.7/dist-packages (from slycot) (1.19.5)\n",
            "Building wheels for collected packages: slycot\n",
            "  Building wheel for slycot (PEP 517) ... \u001b[?25l\u001b[?25hdone\n",
            "  Created wheel for slycot: filename=slycot-0.4.0-cp37-cp37m-linux_x86_64.whl size=1417834 sha256=d794bf83dbb91551f80c65eae04c3e500f7a49aa5d6c7aa3fc6399f416c19b0f\n",
            "  Stored in directory: /root/.cache/pip/wheels/a2/46/56/f82cbb2fd06556f4f3952a2eb2396e8fd29264fffecbaad3cf\n",
            "Successfully built slycot\n",
            "Installing collected packages: slycot\n",
            "Successfully installed slycot-0.4.0\n",
            "Collecting control\n",
            "\u001b[?25l  Downloading https://files.pythonhosted.org/packages/88/87/ee6cb7cdcf4efe5634231bd688b307773629a100ec4c83b0c3eb03edd39d/control-0.9.0.tar.gz (339kB)\n",
            "\u001b[K     |████████████████████████████████| 348kB 22.4MB/s \n",
            "\u001b[?25hRequirement already satisfied: numpy in /usr/local/lib/python3.7/dist-packages (from control) (1.19.5)\n",
            "Requirement already satisfied: scipy in /usr/local/lib/python3.7/dist-packages (from control) (1.4.1)\n",
            "Requirement already satisfied: matplotlib in /usr/local/lib/python3.7/dist-packages (from control) (3.2.2)\n",
            "Requirement already satisfied: python-dateutil>=2.1 in /usr/local/lib/python3.7/dist-packages (from matplotlib->control) (2.8.1)\n",
            "Requirement already satisfied: cycler>=0.10 in /usr/local/lib/python3.7/dist-packages (from matplotlib->control) (0.10.0)\n",
            "Requirement already satisfied: pyparsing!=2.0.4,!=2.1.2,!=2.1.6,>=2.0.1 in /usr/local/lib/python3.7/dist-packages (from matplotlib->control) (2.4.7)\n",
            "Requirement already satisfied: kiwisolver>=1.0.1 in /usr/local/lib/python3.7/dist-packages (from matplotlib->control) (1.3.1)\n",
            "Requirement already satisfied: six>=1.5 in /usr/local/lib/python3.7/dist-packages (from python-dateutil>=2.1->matplotlib->control) (1.15.0)\n",
            "Building wheels for collected packages: control\n",
            "  Building wheel for control (setup.py) ... \u001b[?25l\u001b[?25hdone\n",
            "  Created wheel for control: filename=control-0.9.0-py2.py3-none-any.whl size=344920 sha256=0bfb541a18e5fd2c03be1cf03d53530bc6f737bcba0875315207e0370cb798ca\n",
            "  Stored in directory: /root/.cache/pip/wheels/35/be/ee/081b68ca3e4b2d253fba2f7f7e51960373903fb7b6d13c5532\n",
            "Successfully built control\n",
            "Installing collected packages: control\n",
            "Successfully installed control-0.9.0\n"
          ],
          "name": "stdout"
        }
      ]
    },
    {
      "cell_type": "code",
      "metadata": {
        "id": "E4LQqINrovYe"
      },
      "source": [
        "# นำเข้าไลบรารีที่ต้องการใช้ (สามารถนำเข้าในเซลอื่นๆได้ตามต้องการ)\n",
        "import numpy as np\n",
        "import matplotlib.pyplot as plt\n",
        "import control as ctl"
      ],
      "execution_count": null,
      "outputs": []
    },
    {
      "cell_type": "markdown",
      "metadata": {
        "id": "o0mXqxCmovYf"
      },
      "source": [
        "***\n",
        "### หมายเหตุ\n",
        "\n",
        "### <em>ในเฉลยนี้จะสมมุติว่าทำโดยนิสิตที่มีรหัส 6010506258 ถอดรหัสได้ x = 2, y = 5, z = 8 </em>"
      ]
    },
    {
      "cell_type": "code",
      "metadata": {
        "id": "6vneL1KrovYf"
      },
      "source": [
        "# Student ID: 6010554802\n",
        "x = 8\n",
        "y = 1\n",
        "z = 2"
      ],
      "execution_count": null,
      "outputs": []
    },
    {
      "cell_type": "markdown",
      "metadata": {
        "id": "32DmsSjxovYf"
      },
      "source": [
        "<a id=\"p1\"></a>\n",
        "#### P1 (20 คะแนน) \n",
        "\n",
        "1.1 ระบุคุณสมบัติของ ESP32 ที่เหนือกว่า ESP8266 มา 5 ข้อ (4 คะแนน)"
      ]
    },
    {
      "cell_type": "code",
      "metadata": {
        "id": "FbRyqf12ovYf"
      },
      "source": [
        "# 1. มีคอร์ประมวลผล 2 คอร์\n",
        "# 2. ทำงานที่สัญญาณนาฬิกาสูงกว่าทำให้ประมวลผลได้เร็วกว่า\n",
        "# 3. มีขาอินพุตแอนะล็อกให้ใช้งานได้หลายขา และมีความละเอียด 12 บิต (ESP8266 มีเพียง 1 ขา 10 บิต) \n",
        "# 4. WiFi มีความเร็วสูงกว่า\n",
        "# 5. มี bluetooth\n",
        "# 6. มี GPIO มากกว่า\n",
        "# 7. มี DAC 2 ขา (ESP8266 ไม่มี)\n",
        "# 8. สามารถตื่นจากโหมด deep sleep ได้โดยการกระตุ้นจากภายนอก"
      ],
      "execution_count": null,
      "outputs": []
    },
    {
      "cell_type": "markdown",
      "metadata": {
        "id": "VNnZc0PtovYg"
      },
      "source": [
        "1.2 อธิบายความแตกต่างของฟังก์ชัน setup() และ loop() ในโปรแกรม Arduino (4 คะแนน)"
      ]
    },
    {
      "cell_type": "code",
      "metadata": {
        "id": "n9HdseIJovYg"
      },
      "source": [
        "# setup() ถูกประมวลผลเพียงครั้งเดียวในช่วงเริ่มต้นทำงาน ใช้สำหรับตั้งค่าโมดูลต่างๆ หรือกำหนดขาให้เป็นอินพุตหรือเอาต์พุต\n",
        "# loop() จะถูกประมวลผลแบบวนรอบหลังจาก setup() ใช้สำหรับคำสั่งที่ต้องการทำซ้ำอย่างต่อเนื่อง เช่นการอ่านค่าจากเซนเซอร์ คำนวณและแสดงผล"
      ],
      "execution_count": null,
      "outputs": []
    },
    {
      "cell_type": "markdown",
      "metadata": {
        "id": "sdRf0QDwovYg"
      },
      "source": [
        "1.3 ทำไมโปรโตคอล MQTT จึงได้รับความนิยมในการสื่อสารของอุปกรณ์ไอโอที (4 คะแนน)"
      ]
    },
    {
      "cell_type": "code",
      "metadata": {
        "id": "5Qy9MQyMovYh"
      },
      "source": [
        "# เนื่องจากมีน้ำหนักเบา (แตกต่างจากโปรโตคอลอื่นเช่น http ที่มี overhead มาก) เหมาะสมกับการรับส่งข้อมูลแบบเรียลไทม์ "
      ],
      "execution_count": null,
      "outputs": []
    },
    {
      "cell_type": "markdown",
      "metadata": {
        "id": "qc-xJnJNovYh"
      },
      "source": [
        "1.4 ระบุข้อดีและข้อเสียของการสื่อสารแบบ i2c อย่างละ 1 ข้อ (3 คะแนน)"
      ]
    },
    {
      "cell_type": "code",
      "metadata": {
        "id": "ygTH756YovYh"
      },
      "source": [
        "# ข้อดี : ต้องการสายสัญญาณเพียง 2 เส้นเท่าเดิมแม้อุปกรณ์ต่อพ่วงจะมากขึ้น\n",
        "# ข้อเสีย : ระยะทางในการสื่อสารค่อนข้างจำกัด และความเร็วในการสื่อสารด้อยกว่า SPI เพราะเป็นแบบ half duplex และต้องส่งแอดเดรสเพื่อเลือก\n",
        "#     อุปกรณ์ที่ต้องการสื่อสารด้วยก่อนรับส่งข้อมูล"
      ],
      "execution_count": null,
      "outputs": []
    },
    {
      "cell_type": "markdown",
      "metadata": {
        "id": "e1aJQkFKovYi"
      },
      "source": [
        "1.5 ระบุข้อดีและข้อเสียของการสื่อสารแบบ SPI อย่างละ 1 ข้อ (3 คะแนน)"
      ]
    },
    {
      "cell_type": "code",
      "metadata": {
        "id": "91KHodd6ovYi"
      },
      "source": [
        "# ข้อดี : ความเร็วในการสื่อสารดี เนื่องจากเป็นแบบ full duplex และไม่ต้องส่งแอดเดรสเพื่อเลือดอุปกรณ์\n",
        "# ข้อเสีย : จำนวนสายจะเพิ่มขึ้นตามจำนวนอุปกรณ์ต่อพ่วง เนื่องจากต้องมีสัญญาณ chip select "
      ],
      "execution_count": null,
      "outputs": []
    },
    {
      "cell_type": "markdown",
      "metadata": {
        "id": "cNHBe4nBovYi"
      },
      "source": [
        "1.6 งานประเภทใดที่ควรใช้ไลบรารี FreeRTOS บน ESP32? (3 คะแนน)"
      ]
    },
    {
      "cell_type": "code",
      "metadata": {
        "id": "EAb-t3XpovYi"
      },
      "source": [
        "# งานที่ต้องการให้เป็นแบบมัลติทาสก์แท้ โดยรันงานที่สำคัญบนคอร์ประมวลผลแยกจากงานอื่น ทั้งนี้เนื่องจาก ESP32 มีคอร์ประมวลผล 2 คอร์ และการกำหนดคอร์ให้\n",
        "# กับงานจำเป็นต้องใช้ไลบรารี FreeRTOS "
      ],
      "execution_count": null,
      "outputs": []
    },
    {
      "cell_type": "markdown",
      "metadata": {
        "id": "Eq_b8apRovYj"
      },
      "source": [
        "<a id=\"p2\"></a>\n",
        "#### P2. (30 คะแนน) \n",
        "ฟังก์ชันถ่ายโอนเวลาต่อเนื่องของตัวควบคุมเชิงเส้น\n",
        "\n",
        "$$\n",
        "C(s) = y\\frac{(s+x)}{(s+z)}\n",
        "$$\n",
        "\n",
        "ที่ออกแบบสำหรับพลานต์\n",
        "$$\n",
        "P(s) = \\frac{30}{(s+10)}\n",
        "$$\n",
        "\n",
        "1. จำลองและพล็อตผลตอบสนองขั้นบันได (step response) ของระบบวงปิด $T(s)$ จากพล็อตที่ได้ วัดค่าแตกต่างในสถานะนิ่ง (steady state error) (10 คะแนน)\n",
        "2. แปลง $C(s)$ เป็น $C(z)$ โดยใช้ฟังก์ชัน ctl.sample_system() ด้วยคาบเวลา 0.05 วินาที (10 คะแนน)\n",
        "3. จาก $C(z)$ ในข้อ 2. อธิบายขั้นตอนอิมพลิเมนต์เป็นอัลกอริทึมบนไมโครคอนโทรลเลอร์ (อธิบายให้ชัดเจนโดยไม่ต้องแปลงเป็นสมการหรือเขียนโค้ด) \n",
        "(10 คะแนน)"
      ]
    },
    {
      "cell_type": "code",
      "metadata": {
        "colab": {
          "base_uri": "https://localhost:8080/",
          "height": 279
        },
        "id": "U3ZDaM3IovYj",
        "outputId": "bde993e4-d810-44be-b455-803580c833c6"
      },
      "source": [
        "#1 จำลองและพล็อตผลตอบสนองขั้นบันได (step response) ของระบบวงปิด  𝑇(𝑠)  จากพล็อตที่ได้ \n",
        "s = ctl.tf('s')\n",
        "C = y*(s+x)/(s+z)\n",
        "P = 30/(s+10)\n",
        "L = C*P\n",
        "Tsys = ctl.feedback(L) \n",
        "tvec = np.arange(0,1,0.001)\n",
        "r = np.ones(tvec.shape)\n",
        "tout, y = ctl.step_response(Tsys, tvec)\n",
        "plt.figure()\n",
        "plt.plot(tout,r,'b',tout,y,'r-')\n",
        "plt.grid('True')\n",
        "plt.xlabel('time (sec)')\n",
        "plt.ylabel('output')\n",
        "\n",
        "plt.legend(['step ref.','y'])\n",
        "plt.show()"
      ],
      "execution_count": null,
      "outputs": [
        {
          "output_type": "display_data",
          "data": {
            "image/png": "[encoded data removed]",
            "text/plain": [
              "<Figure size 432x288 with 1 Axes>"
            ]
          },
          "metadata": {
            "tags": [],
            "needs_background": "light"
          }
        }
      ]
    },
    {
      "cell_type": "code",
      "metadata": {
        "id": "kPjVboByovYj"
      },
      "source": [
        "#จากกราฟได้ค่าแตกต่างในสถานะนิ่ง (steady-state error) ประมาณ 0.2 หรือ 20%"
      ],
      "execution_count": null,
      "outputs": []
    },
    {
      "cell_type": "code",
      "metadata": {
        "colab": {
          "base_uri": "https://localhost:8080/",
          "height": 39
        },
        "id": "h34mMGkCovYk",
        "outputId": "7ddbc0e0-548d-4be3-a6b2-a68a50b553b6"
      },
      "source": [
        "#2. แปลง  𝐶(𝑠)  เป็น  𝐶(𝑧)  โดยใช้ฟังก์ชัน ctl.sample_system() ด้วยคาบเวลา 0.05 วินาที\n",
        "Ts = 0.05\n",
        "Cd = ctl.sample_system(C, Ts, method='tustin')\n",
        "Cd"
      ],
      "execution_count": null,
      "outputs": [
        {
          "output_type": "execute_result",
          "data": {
            "text/latex": "$$\\frac{1.143 z - 0.7619}{z - 0.9048}\\quad dt = 0.05$$",
            "text/plain": [
              "TransferFunction(array([ 1.14285714, -0.76190476]), array([ 1.       , -0.9047619]), 0.05)"
            ]
          },
          "metadata": {
            "tags": []
          },
          "execution_count": 15
        }
      ]
    },
    {
      "cell_type": "markdown",
      "metadata": {
        "id": "KPYcvlcyovYk"
      },
      "source": [
        "จาก  Cd  ในข้อ 2. อธิบายขั้นตอนอิมพลิเมนต์เป็นอัลกอริทึมบนไมโครคอนโทรลเลอร์\n",
        "\n",
        "ขั้นตอนการอิมพลิเมนต์หลังจากแปลงเป็นฟังก์่ชันถ่ายโอนแบบดีสครีต\n",
        "\n",
        "1. จัดรูปใหม่ให้อยู่ในรูปของ $z^{-1}$\n",
        "$$\n",
        "C_d = \\frac{4.375 - 3.958z^{-1}}{1-0.6667z^{-1}}\n",
        "$$\n",
        "\n",
        "2. จาก $C_d(z) = \\frac{u(z)}{e(z)}$ พิจาณาว่าพจน์ $z^{-1}$ คือตัวหน่วงเวลา 1 หน่วย ดังนั้นจะได้สมการผลต่าง\n",
        "$$\n",
        "u(k)=0.6667u(k-1)+4.375e(k)-3.958e(k-1)\n",
        "$$\n",
        "ซึ่งจะแปลงเป็นโค้ดได้ลักษณะดังฟังก์ชัน controller() ในเซลด้านล่าง\n",
        "\n",
        "3. ตั้งค่าให้ฟังก์ชัน controller() รันทุกคาบเวลาไทเมอร์ 0.05 วินาที หรือใช้วิธีอ่านค่าเวลาจาก mcu โดย millis() และให้ฟังก์ชันทำงานตามคาบเวลา"
      ]
    },
    {
      "cell_type": "markdown",
      "metadata": {
        "id": "vR7di10JovYk"
      },
      "source": [
        "float u0, u1, e0, e1;  // global variables\n",
        "void controlller(void) \n",
        "{\n",
        "    e1 = e0;\n",
        "    u1 = u0;\n",
        "    e0 = r - y;  // omit how r and y are acquired\n",
        "    u0 = 0.6667*u1 + 4.375*e0 - 3.958*e1;\n",
        "    out(u0);  // omit how outuput u0 is sent\n",
        "\n",
        "}"
      ]
    },
    {
      "cell_type": "markdown",
      "metadata": {
        "id": "47ervihHovYl"
      },
      "source": [
        "<a id=\"p3\"></a>\n",
        "#### P3. (10 คะแนน)\n",
        "จงหาความถี่และ duty cycle ของสัญญาณ PWM ในรูปที่ 1\n",
        "\n",
        "<p align=\"center\">\n",
        "<img src=\"https://drive.google.com/uc?id=16DPmruMrhN3M67PjsWt8FVrkbOWufp5O\" width=550 alt=\"Figure 1\"/>\n",
        "</p>\n",
        "<div align=\"center\"><b>รูปที่ 1 สัญญาณ PWM</b></div>"
      ]
    },
    {
      "cell_type": "code",
      "metadata": {
        "colab": {
          "base_uri": "https://localhost:8080/"
        },
        "id": "BfqcFeMqovYl",
        "outputId": "221c4d9c-ffee-4b7a-f987-e1b6088a5038"
      },
      "source": [
        "y = 1\n",
        "z = 2\n",
        "period = (8*y+150*z)*1e-6\n",
        "pwm_freq = 1/period\n",
        "print(\"PWM frequency = {:.2f} Hz\".format(pwm_freq))\n",
        "duty_cycle = 100*(8*y)/(8*y+150*z) # percent\n",
        "print(\"Duty cycle = {:.2f} percent\".format(duty_cycle))"
      ],
      "execution_count": null,
      "outputs": [
        {
          "output_type": "stream",
          "text": [
            "PWM frequency = 3246.75 Hz\n",
            "Duty cycle = 2.60 percent\n"
          ],
          "name": "stdout"
        }
      ]
    },
    {
      "cell_type": "code",
      "metadata": {
        "id": "Iwls6znUovYl"
      },
      "source": [
        ""
      ],
      "execution_count": null,
      "outputs": []
    },
    {
      "cell_type": "markdown",
      "metadata": {
        "id": "JGL1KmMbovYm"
      },
      "source": [
        "<a id=\"p4\"></a>\n",
        "#### P4. (20 points)\n",
        "\n",
        "จากรูปที่ 2 เติมโค้ดในฟังก์ชัน setup() และ loop() ของโปรแกรม Arduino ให้สมบูรณ์เพื่อสั่งงานให้ LED เปลี่ยนสถานะทุกครั้งที่มีการกดสวิตช์ SW1 \n",
        "(คือกดครั้งหนึ่งเปิด กดอีกครั้งปิดสลับกันไปเช่นนี้ เรียกว่าการสลับสถานะ (toggle)) และข้้อความแสดงสถานะของ LED คือ “LED ON” และ “LED OFF” \n",
        "ถูกส่งออกที่เอาต์พุตของพอร์ดอนุกรมทุกครั้งที่เปลี่ยนสถานะ\n",
        "\n",
        "<p align=\"center\">\n",
        "<img src=\"https://drive.google.com/uc?id=1F9H918bbypbiV42-ur0yVY6JorTOaWjU\" width=350 alt=\"Figure 2\"/>\n",
        "</p>\n",
        "<div align=\"center\"><b>รูปที่ 2 วงจรสลับสถานะ LED</b></div>"
      ]
    },
    {
      "cell_type": "markdown",
      "metadata": {
        "id": "uO-TTfrOovYm"
      },
      "source": [
        "<b>หมายเหตุ : </b> ไม่ต้องรันเซลเพราะภาษา C ไม่รองรับบน Jupyter notebook"
      ]
    },
    {
      "cell_type": "code",
      "metadata": {
        "colab": {
          "base_uri": "https://localhost:8080/",
          "height": 130
        },
        "id": "8X9d64OcovYm",
        "outputId": "c30d067f-cc79-4906-e3ac-abfdeadb5ef1"
      },
      "source": [
        "// replace ___ with C code. \n",
        "#defne SW1 D4\n",
        "#define LED D7\n",
        "int buttonState = 0;\n",
        "int ledState = 0;\n",
        "\n",
        "setup()\n",
        "{\n",
        "    pinMode(SW1,INPUT);  \n",
        "    pinMode(LED, OUTPUT);  \n",
        "    Serial.begin(115200);\n",
        "}"
      ],
      "execution_count": null,
      "outputs": [
        {
          "output_type": "error",
          "ename": "SyntaxError",
          "evalue": "ignored",
          "traceback": [
            "\u001b[0;36m  File \u001b[0;32m\"<ipython-input-18-ce2fd2bb0b6c>\"\u001b[0;36m, line \u001b[0;32m1\u001b[0m\n\u001b[0;31m    (/, replace, ___, with, C, code.)\u001b[0m\n\u001b[0m     ^\u001b[0m\n\u001b[0;31mSyntaxError\u001b[0m\u001b[0;31m:\u001b[0m invalid syntax\n"
          ]
        }
      ]
    },
    {
      "cell_type": "code",
      "metadata": {
        "id": "LmVjf8-_ovYm"
      },
      "source": [
        "/ replace ___ with C code\n",
        "loop()\n",
        "{\n",
        "    // Hint : see LAB 2-5 in lecture 6b video clip \n",
        "    int reading = digitalRead(SW1);\n",
        "    if(buttonState != reading){\n",
        "        delay(100);   // switch debounce\n",
        "        buttonState = reading;\n",
        "\n",
        "        if (buttonState == HIGH) {\n",
        "          ledState = !ledState;\n",
        "        }\n",
        "        digitalWrite(LED,ledState);     \n",
        "        if (ledstate) Serial.println(\"LED ON\");\n",
        "        else Serial.println(\"LED OFF\");        \n",
        "    }\n",
        "\n",
        "\n",
        "}"
      ],
      "execution_count": null,
      "outputs": []
    },
    {
      "cell_type": "markdown",
      "metadata": {
        "id": "BUPXoldDovYn"
      },
      "source": [
        "<a id=\"p5\"></a>\n",
        "#### P5. (20 คะแนน)\n",
        "\n",
        "ข้อมูลผลตอบสนองขั้นบันได 200 ค่าสุ่ม เก็บจากบอร์ดที่อิมพลิเมนต์ตัวควบคุม PID\n",
        "$$\n",
        "C(s) = K_p + \\frac{K_i}{s} + \\frac{NK_d}{1+N/s}\n",
        "$$\n",
        "และพลานต์\n",
        "$$\n",
        "P(s) = \\frac{1}{(s+1)^3}\n",
        "$$\n",
        "ได้เป็นดังนี้"
      ]
    },
    {
      "cell_type": "code",
      "metadata": {
        "id": "cdM6spbOovYn"
      },
      "source": [
        "datamat = np.array([\n",
        "[0.06, 0.30, 0.10, 3.30],\n",
        "[0.12, 0.30, 0.10, 2.64],\n",
        "[0.18, 0.30, 0.10, 1.53],\n",
        "[0.24, 0.30, 0.10, 1.34],\n",
        "[0.30, 0.30, 0.10, 1.29],\n",
        "[0.36, 0.30, 0.11, 1.17],\n",
        "[0.42, 0.30, 0.11, 1.27],\n",
        "[0.48, 0.30, 0.12, 1.16],\n",
        "[0.54, 0.30, 0.12, 1.13],\n",
        "[0.60, 0.30, 0.13, 1.05],\n",
        "[0.66, 0.30, 0.14, 1.06],\n",
        "[0.72, 0.30, 0.15, 0.98],\n",
        "[0.78, 0.30, 0.16, 1.07],\n",
        "[0.84, 0.30, 0.17, 0.92],\n",
        "[0.90, 0.30, 0.18, 0.85],\n",
        "[0.96, 0.30, 0.19, 0.76],\n",
        "[1.02, 0.30, 0.20, 0.78],\n",
        "[1.08, 0.30, 0.21, 0.70],\n",
        "[1.14, 0.30, 0.22, 0.73],\n",
        "[1.20, 0.30, 0.24, 0.61],\n",
        "[1.26, 0.30, 0.25, 0.61],\n",
        "[1.32, 0.30, 0.26, 0.50],\n",
        "[1.38, 0.30, 0.27, 0.51],\n",
        "[1.44, 0.30, 0.28, 0.40],\n",
        "[1.50, 0.30, 0.30, 0.33],\n",
        "[1.56, 0.30, 0.31, 0.31],\n",
        "[1.62, 0.30, 0.32, 0.32],\n",
        "[1.68, 0.30, 0.32, 0.35],\n",
        "[1.74, 0.30, 0.34, 0.16],\n",
        "[1.80, 0.30, 0.35, 0.18],\n",
        "[1.86, 0.30, 0.35, 0.20],\n",
        "[1.92, 0.30, 0.36, 0.17],\n",
        "[1.98, 0.30, 0.37, 0.18],\n",
        "[2.04, 0.30, 0.37, 0.10],\n",
        "[2.10, 0.30, 0.38, 0.10],\n",
        "[2.16, 0.30, 0.39, 0.04],\n",
        "[2.22, 0.30, 0.39, 0.09],\n",
        "[2.28, 0.30, 0.39, 0.08],\n",
        "[2.34, 0.30, 0.40, 0.00],\n",
        "[2.40, 0.30, 0.40, 0.06],\n",
        "[2.46, 0.30, 0.40, 0.08],\n",
        "[2.52, 0.30, 0.40, 0.06],\n",
        "[2.58, 0.30, 0.40, 0.12],\n",
        "[2.64, 0.30, 0.40, 0.05],\n",
        "[2.70, 0.30, 0.40, 0.07],\n",
        "[2.76, 0.30, 0.40, 0.12],\n",
        "[2.82, 0.30, 0.40, 0.10],\n",
        "[2.88, 0.30, 0.39, 0.16],\n",
        "[2.94, 0.30, 0.39, 0.13],\n",
        "[3.00, 0.30, 0.39, 0.17],\n",
        "[3.06, 0.30, 0.38, 0.31],\n",
        "[3.12, 0.30, 0.37, 0.22],\n",
        "[3.18, 0.30, 0.37, 0.17],\n",
        "[3.24, 0.30, 0.37, 0.29],\n",
        "[3.30, 0.30, 0.36, 0.28],\n",
        "[3.36, 0.30, 0.36, 0.24],\n",
        "[3.42, 0.30, 0.35, 0.41],\n",
        "[3.48, 0.30, 0.34, 0.33],\n",
        "[3.54, 0.30, 0.34, 0.39],\n",
        "[3.60, 0.30, 0.33, 0.43],\n",
        "[3.66, 0.30, 0.32, 0.46],\n",
        "[3.72, 0.30, 0.32, 0.44],\n",
        "[3.78, 0.30, 0.31, 0.55],\n",
        "[3.84, 0.30, 0.31, 0.45],\n",
        "[3.90, 0.30, 0.30, 0.54],\n",
        "[3.96, 0.30, 0.30, 0.56],\n",
        "[4.02, 0.30, 0.30, 0.44],\n",
        "[4.08, 0.30, 0.29, 0.58],\n",
        "[4.14, 0.30, 0.28, 0.62],\n",
        "[4.20, 0.30, 0.28, 0.50],\n",
        "[4.26, 0.30, 0.28, 0.68],\n",
        "[4.32, 0.30, 0.27, 0.63],\n",
        "[4.38, 0.30, 0.27, 0.58],\n",
        "[4.44, 0.30, 0.27, 0.60],\n",
        "[4.50, 0.30, 0.27, 0.60],\n",
        "[4.56, 0.30, 0.26, 0.63],\n",
        "[4.62, 0.30, 0.26, 0.63],\n",
        "[4.68, 0.30, 0.26, 0.64],\n",
        "[4.74, 0.30, 0.26, 0.60],\n",
        "[4.80, 0.30, 0.26, 0.62],\n",
        "[4.86, 0.30, 0.26, 0.63],\n",
        "[4.92, 0.30, 0.26, 0.59],\n",
        "[4.98, 0.30, 0.26, 0.61],\n",
        "[5.04, 0.30, 0.26, 0.62],\n",
        "[5.10, 0.30, 0.26, 0.58],\n",
        "[5.16, 0.30, 0.26, 0.56],\n",
        "[5.22, 0.30, 0.27, 0.53],\n",
        "[5.28, 0.30, 0.27, 0.62],\n",
        "[5.34, 0.30, 0.27, 0.55],\n",
        "[5.40, 0.30, 0.27, 0.53],\n",
        "[5.46, 0.30, 0.27, 0.57],\n",
        "[5.52, 0.30, 0.27, 0.60],\n",
        "[5.58, 0.30, 0.28, 0.47],\n",
        "[5.64, 0.30, 0.28, 0.44],\n",
        "[5.70, 0.30, 0.28, 0.47],\n",
        "[5.76, 0.30, 0.28, 0.55],\n",
        "[5.82, 0.30, 0.29, 0.42],\n",
        "[5.88, 0.30, 0.29, 0.40],\n",
        "[5.94, 0.30, 0.29, 0.43],\n",
        "[6.00, 0.30, 0.30, 0.40],\n",
        "[6.06, 0.30, 0.30, 0.43],\n",
        "[6.12, 0.30, 0.30, 0.49],\n",
        "[6.18, 0.30, 0.30, 0.37],\n",
        "[6.24, 0.30, 0.31, 0.36],\n",
        "[6.30, 0.30, 0.31, 0.34],\n",
        "[6.36, 0.30, 0.31, 0.40],\n",
        "[6.42, 0.30, 0.31, 0.41],\n",
        "[6.48, 0.30, 0.31, 0.41],\n",
        "[6.54, 0.30, 0.31, 0.35],\n",
        "[6.60, 0.30, 0.31, 0.40],\n",
        "[6.66, 0.30, 0.32, 0.34],\n",
        "[6.72, 0.30, 0.32, 0.31],\n",
        "[6.78, 0.30, 0.32, 0.37],\n",
        "[6.84, 0.30, 0.32, 0.38],\n",
        "[6.90, 0.30, 0.32, 0.38],\n",
        "[6.96, 0.30, 0.32, 0.30],\n",
        "[7.02, 0.30, 0.32, 0.35],\n",
        "[7.08, 0.30, 0.32, 0.33],\n",
        "[7.14, 0.30, 0.32, 0.32],\n",
        "[7.20, 0.30, 0.32, 0.34],\n",
        "[7.26, 0.30, 0.32, 0.42],\n",
        "[7.32, 0.30, 0.32, 0.39],\n",
        "[7.38, 0.30, 0.32, 0.39],\n",
        "[7.44, 0.30, 0.32, 0.36],\n",
        "[7.50, 0.30, 0.32, 0.40],\n",
        "[7.56, 0.30, 0.32, 0.42],\n",
        "[7.62, 0.30, 0.32, 0.37],\n",
        "[7.68, 0.30, 0.31, 0.41],\n",
        "[7.74, 0.30, 0.31, 0.40],\n",
        "[7.80, 0.30, 0.31, 0.42],\n",
        "[7.86, 0.30, 0.31, 0.43],\n",
        "[7.92, 0.30, 0.31, 0.39],\n",
        "[7.98, 0.30, 0.31, 0.38],\n",
        "[8.04, 0.30, 0.31, 0.38],\n",
        "[8.10, 0.30, 0.31, 0.50],\n",
        "[8.16, 0.30, 0.30, 0.44],\n",
        "[8.22, 0.30, 0.30, 0.43],\n",
        "[8.28, 0.30, 0.30, 0.46],\n",
        "[8.34, 0.30, 0.30, 0.47],\n",
        "[8.40, 0.30, 0.30, 0.48],\n",
        "[8.46, 0.30, 0.30, 0.49],\n",
        "[8.52, 0.30, 0.30, 0.42],\n",
        "[8.58, 0.30, 0.30, 0.47],\n",
        "[8.64, 0.30, 0.30, 0.44],\n",
        "[8.70, 0.30, 0.30, 0.44],\n",
        "[8.76, 0.30, 0.29, 0.49],\n",
        "[8.82, 0.30, 0.29, 0.48],\n",
        "[8.88, 0.30, 0.29, 0.43],\n",
        "[8.94, 0.30, 0.29, 0.47],\n",
        "[9.00, 0.30, 0.29, 0.48],\n",
        "[9.06, 0.30, 0.29, 0.44],\n",
        "[9.12, 0.30, 0.29, 0.50],\n",
        "[9.18, 0.30, 0.29, 0.52],\n",
        "[9.24, 0.30, 0.29, 0.48],\n",
        "[9.30, 0.30, 0.29, 0.45],\n",
        "[9.36, 0.30, 0.29, 0.49],\n",
        "[9.42, 0.30, 0.29, 0.45],\n",
        "[9.48, 0.30, 0.29, 0.47],\n",
        "[9.54, 0.30, 0.29, 0.55],\n",
        "[9.60, 0.30, 0.29, 0.45],\n",
        "[9.66, 0.30, 0.29, 0.42],\n",
        "[9.72, 0.30, 0.29, 0.46],\n",
        "[9.78, 0.30, 0.29, 0.45],\n",
        "[9.84, 0.30, 0.29, 0.49],\n",
        "[9.90, 0.30, 0.29, 0.43],\n",
        "[9.96, 0.30, 0.29, 0.46],\n",
        "[10.02, 0.30, 0.29, 0.47],\n",
        "[10.08, 0.30, 0.30, 0.40],\n",
        "[10.14, 0.30, 0.30, 0.47],\n",
        "[10.20, 0.30, 0.30, 0.44],\n",
        "[10.26, 0.30, 0.30, 0.46],\n",
        "[10.32, 0.30, 0.30, 0.46],\n",
        "[10.38, 0.30, 0.30, 0.46],\n",
        "[10.44, 0.30, 0.30, 0.47],\n",
        "[10.50, 0.30, 0.30, 0.47],\n",
        "[10.56, 0.30, 0.30, 0.47],\n",
        "[10.62, 0.30, 0.30, 0.42],\n",
        "[10.68, 0.30, 0.30, 0.45],\n",
        "[10.74, 0.30, 0.30, 0.46],\n",
        "[10.80, 0.30, 0.30, 0.41],\n",
        "[10.86, 0.30, 0.30, 0.42],\n",
        "[10.92, 0.30, 0.30, 0.49],\n",
        "[10.98, 0.30, 0.30, 0.44],\n",
        "[11.04, 0.30, 0.30, 0.47],\n",
        "[11.10, 0.30, 0.30, 0.41],\n",
        "[11.16, 0.30, 0.30, 0.39],\n",
        "[11.22, 0.30, 0.30, 0.40],\n",
        "[11.28, 0.30, 0.30, 0.45],\n",
        "[11.34, 0.30, 0.30, 0.39],\n",
        "[11.40, 0.30, 0.30, 0.40],\n",
        "[11.46, 0.30, 0.31, 0.39],\n",
        "[11.52, 0.30, 0.30, 0.44],\n",
        "[11.58, 0.30, 0.30, 0.48],\n",
        "[11.64, 0.30, 0.31, 0.37],\n",
        "[11.70, 0.30, 0.30, 0.46],\n",
        "[11.76, 0.30, 0.30, 0.41],\n",
        "[11.82, 0.30, 0.30, 0.44],\n",
        "[11.88, 0.30, 0.31, 0.38],\n",
        "[11.94, 0.30, 0.31, 0.41],\n",
        "[12.00, 0.30, 0.30, 0.46],\n",
        "])\n"
      ],
      "execution_count": null,
      "outputs": []
    },
    {
      "cell_type": "markdown",
      "metadata": {
        "id": "9m9deJnHovYp"
      },
      "source": [
        "โดยแถวของแอเรย์คือข้อมูลแต่ละจุด คอลัมน์ 0 - 3 คือ เวลา, ค่าคำสั่ง , เอาต์พุตของพลานต์, และเอาต์พุตของตัวควบคุม ตามลำดับ\n",
        "\n",
        "เขียนฟังก์ชันเพื่เปรียบเทียบผลตอบสนองระหว่างการจำลองกับข้อมูลในเซลด้านบน ฟังก์ชันนี้จะพล็อตการเปรียบเทียบผลตอบสนองขั้นบันได้ดังในรูปที่ 3\n",
        "\n",
        "<p align=\"center\">\n",
        "<img src=\"https://drive.google.com/uc?id=1j4gDPQe_AaygVcKIE_YMevCOFGT_w_JK\" alt=\"Figure 3\"/>\n",
        "</p>\n",
        "<div align=\"center\"><b>รูปที่ 3 การเปรียบเทียบผลตอบสนองขั้นบันได</b></div>\n"
      ]
    },
    {
      "cell_type": "code",
      "metadata": {
        "id": "UvB_ew6DovYp"
      },
      "source": [
        "def pid_compare(kp, ki, kd, datamat,scale=1):\n",
        "    \n",
        "    # extract vectors from datamat\n",
        "    tvec = datamat[:,0]\n",
        "    rvec = datamat[:,1]\n",
        "    yvec = datamat[:,2]\n",
        "    uvec = datamat[:,3]    \n",
        "    \n",
        "    s = ctl.tf('s')\n",
        "    \n",
        "    # 3rd-order lag plant\n",
        "    P = 1/((s+1)**3)\n",
        "    \n",
        "    # continuous-time PID\n",
        "    N = 20\n",
        "    C_c = kp + ki/s + s*N*kd/(s+N)\n",
        "    L_c = C_c*P\n",
        "    sys_c = ctl.feedback(L_c)\n",
        "    \n",
        "    # simulate response\n",
        "    Tv, y_c = ctl.step_response(sys_c, tvec, X0=0.1/scale)\n",
        "    \n",
        "    # plot the comparison\n",
        "    fig, (ax1, ax2) = plt.subplots(2,figsize=(12,12))\n",
        "    #fig.suptitle('Step responses comparison')\n",
        "    ax1.set_title('Step responses comparison')\n",
        "    ax1.plot(tvec, rvec,'g-.', tvec, scale*y_c, 'b-',tvec, yvec,'r-')\n",
        "    #ax1.set_xlabel('time (sec)')\n",
        "    ax1.set_ylabel('$y(t)$ (volts)')\n",
        "    ax1.legend(['ref.cmd', 'simulated plant output','experimental plant output'])\n",
        "    ax1.grid(True)\n",
        "    \n",
        "    # you do not need to plot controller output. \n",
        "    ax2.plot(tvec, uvec, 'm-')\n",
        "    ax2.set_xlabel('time (sec)')\n",
        "    ax2.set_ylabel('$u(t)$ (volts)')\n",
        "    ax2.grid(True)\n",
        "    ax2.set_title('Controller output')\n",
        "    plt.show()\n",
        "\n"
      ],
      "execution_count": null,
      "outputs": []
    },
    {
      "cell_type": "code",
      "metadata": {
        "colab": {
          "base_uri": "https://localhost:8080/",
          "height": 784
        },
        "id": "vdrtRJA8ovYq",
        "outputId": "d8901f94-c792-4733-f093-ec377d2cb964"
      },
      "source": [
        "# เรียกฟังก์ชันเพื่อพล็อตการเปรียบเทียบดังในรูปที่ 3\n",
        "kp = 4.8\n",
        "ki = 2.74\n",
        "kd = 2.1\n",
        "pid_compare(kp,ki,kd,datamat,scale=0.3)"
      ],
      "execution_count": null,
      "outputs": [
        {
          "output_type": "stream",
          "text": [
            "/usr/local/lib/python3.7/dist-packages/control/timeresp.py:703: UserWarning: Non-zero initial condition given for transfer function system. Internal conversion to state space used; may not be consistent with given X0.\n",
            "  \"Non-zero initial condition given for transfer function system. \"\n"
          ],
          "name": "stderr"
        },
        {
          "output_type": "display_data",
          "data": {
            "image/png": "[encoded data removed]",
            "text/plain": [
              "<Figure size 864x864 with 2 Axes>"
            ]
          },
          "metadata": {
            "tags": [],
            "needs_background": "light"
          }
        }
      ]
    },
    {
      "cell_type": "code",
      "metadata": {
        "id": "IvwekSq6ovYq"
      },
      "source": [
        ""
      ],
      "execution_count": null,
      "outputs": []
    },
    {
      "cell_type": "markdown",
      "metadata": {
        "id": "R4y-Ooy3ovYq"
      },
      "source": [
        "***\n",
        "<div align=\"right\">Last update : 6 เมษายน 2564</div>"
      ]
    }
  ]
}