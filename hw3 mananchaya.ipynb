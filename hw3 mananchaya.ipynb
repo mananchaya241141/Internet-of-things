{
  "nbformat": 4,
  "nbformat_minor": 0,
  "metadata": {
    "kernelspec": {
      "display_name": "Python 3.8 (controlenv)",
      "language": "python",
      "name": "controlenv"
    },
    "language_info": {
      "codemirror_mode": {
        "name": "ipython",
        "version": 3
      },
      "file_extension": ".py",
      "mimetype": "text/x-python",
      "name": "python",
      "nbconvert_exporter": "python",
      "pygments_lexer": "ipython3",
      "version": "3.8.5"
    },
    "colab": {
      "name": "hw3en_question.ipynb",
      "provenance": []
    }
  },
  "cells": [
    {
      "cell_type": "markdown",
      "metadata": {
        "id": "JL55C2OQDBPS"
      },
      "source": [
        "<div align=\"right\">Revision 1A : March 2021</div>\n",
        "<div align=\"left\">Embedded Systems & IoT courses\n",
        "<br>Instructor : Dr.Varodom Toochinda\n",
        "<br>Dept. of Mechanical Engineering, Kasetsart University\n",
        "</div>    "
      ]
    },
    {
      "cell_type": "markdown",
      "metadata": {
        "id": "HEG6jKmSDBPc"
      },
      "source": [
        "<a href=\"https://colab.research.google.com/github/dewdotninja/embedded_iot/blob/master/hws/hw3en_question.ipynb\" target=\"_parent\"><img src=\"https://colab.research.google.com/assets/colab-badge.svg\" alt=\"Open In Colab\"/></a>"
      ]
    },
    {
      "cell_type": "markdown",
      "metadata": {
        "id": "_ah16NuaDBPd"
      },
      "source": [
        "## HW # 3\n",
        "\n",
        "First install and import the libraries used "
      ]
    },
    {
      "cell_type": "code",
      "metadata": {
        "id": "2-QO9rHnDBPe",
        "outputId": "c8042e6d-d464-4e69-b4c9-5e4f4e44a391",
        "colab": {
          "base_uri": "https://localhost:8080/"
        }
      },
      "source": [
        "# For colab user, install additional libraries\n",
        "!pip install slycot\n",
        "!pip install control"
      ],
      "execution_count": 1,
      "outputs": [
        {
          "output_type": "stream",
          "text": [
            "Collecting slycot\n",
            "\u001b[?25l  Downloading https://files.pythonhosted.org/packages/85/21/4e7110462f3529b2fbcff8a519b61bf64e0604b8fcbe9a07649c9bed9d7a/slycot-0.4.0.0.tar.gz (1.5MB)\n",
            "\r\u001b[K     |▏                               | 10kB 13.9MB/s eta 0:00:01\r\u001b[K     |▍                               | 20kB 18.9MB/s eta 0:00:01\r\u001b[K     |▋                               | 30kB 23.2MB/s eta 0:00:01\r\u001b[K     |▉                               | 40kB 25.2MB/s eta 0:00:01\r\u001b[K     |█                               | 51kB 24.7MB/s eta 0:00:01\r\u001b[K     |█▎                              | 61kB 20.9MB/s eta 0:00:01\r\u001b[K     |█▌                              | 71kB 19.5MB/s eta 0:00:01\r\u001b[K     |█▊                              | 81kB 16.0MB/s eta 0:00:01\r\u001b[K     |██                              | 92kB 17.0MB/s eta 0:00:01\r\u001b[K     |██▏                             | 102kB 16.4MB/s eta 0:00:01\r\u001b[K     |██▎                             | 112kB 16.4MB/s eta 0:00:01\r\u001b[K     |██▌                             | 122kB 16.4MB/s eta 0:00:01\r\u001b[K     |██▊                             | 133kB 16.4MB/s eta 0:00:01\r\u001b[K     |███                             | 143kB 16.4MB/s eta 0:00:01\r\u001b[K     |███▏                            | 153kB 16.4MB/s eta 0:00:01\r\u001b[K     |███▍                            | 163kB 16.4MB/s eta 0:00:01\r\u001b[K     |███▋                            | 174kB 16.4MB/s eta 0:00:01\r\u001b[K     |███▉                            | 184kB 16.4MB/s eta 0:00:01\r\u001b[K     |████                            | 194kB 16.4MB/s eta 0:00:01\r\u001b[K     |████▎                           | 204kB 16.4MB/s eta 0:00:01\r\u001b[K     |████▌                           | 215kB 16.4MB/s eta 0:00:01\r\u001b[K     |████▋                           | 225kB 16.4MB/s eta 0:00:01\r\u001b[K     |████▉                           | 235kB 16.4MB/s eta 0:00:01\r\u001b[K     |█████                           | 245kB 16.4MB/s eta 0:00:01\r\u001b[K     |█████▎                          | 256kB 16.4MB/s eta 0:00:01\r\u001b[K     |█████▌                          | 266kB 16.4MB/s eta 0:00:01\r\u001b[K     |█████▊                          | 276kB 16.4MB/s eta 0:00:01\r\u001b[K     |██████                          | 286kB 16.4MB/s eta 0:00:01\r\u001b[K     |██████▏                         | 296kB 16.4MB/s eta 0:00:01\r\u001b[K     |██████▍                         | 307kB 16.4MB/s eta 0:00:01\r\u001b[K     |██████▋                         | 317kB 16.4MB/s eta 0:00:01\r\u001b[K     |██████▉                         | 327kB 16.4MB/s eta 0:00:01\r\u001b[K     |███████                         | 337kB 16.4MB/s eta 0:00:01\r\u001b[K     |███████▏                        | 348kB 16.4MB/s eta 0:00:01\r\u001b[K     |███████▍                        | 358kB 16.4MB/s eta 0:00:01\r\u001b[K     |███████▋                        | 368kB 16.4MB/s eta 0:00:01\r\u001b[K     |███████▉                        | 378kB 16.4MB/s eta 0:00:01\r\u001b[K     |████████                        | 389kB 16.4MB/s eta 0:00:01\r\u001b[K     |████████▎                       | 399kB 16.4MB/s eta 0:00:01\r\u001b[K     |████████▌                       | 409kB 16.4MB/s eta 0:00:01\r\u001b[K     |████████▊                       | 419kB 16.4MB/s eta 0:00:01\r\u001b[K     |█████████                       | 430kB 16.4MB/s eta 0:00:01\r\u001b[K     |█████████                       | 440kB 16.4MB/s eta 0:00:01\r\u001b[K     |█████████▎                      | 450kB 16.4MB/s eta 0:00:01\r\u001b[K     |█████████▌                      | 460kB 16.4MB/s eta 0:00:01\r\u001b[K     |█████████▊                      | 471kB 16.4MB/s eta 0:00:01\r\u001b[K     |██████████                      | 481kB 16.4MB/s eta 0:00:01\r\u001b[K     |██████████▏                     | 491kB 16.4MB/s eta 0:00:01\r\u001b[K     |██████████▍                     | 501kB 16.4MB/s eta 0:00:01\r\u001b[K     |██████████▋                     | 512kB 16.4MB/s eta 0:00:01\r\u001b[K     |██████████▉                     | 522kB 16.4MB/s eta 0:00:01\r\u001b[K     |███████████                     | 532kB 16.4MB/s eta 0:00:01\r\u001b[K     |███████████▎                    | 542kB 16.4MB/s eta 0:00:01\r\u001b[K     |███████████▍                    | 552kB 16.4MB/s eta 0:00:01\r\u001b[K     |███████████▋                    | 563kB 16.4MB/s eta 0:00:01\r\u001b[K     |███████████▉                    | 573kB 16.4MB/s eta 0:00:01\r\u001b[K     |████████████                    | 583kB 16.4MB/s eta 0:00:01\r\u001b[K     |████████████▎                   | 593kB 16.4MB/s eta 0:00:01\r\u001b[K     |████████████▌                   | 604kB 16.4MB/s eta 0:00:01\r\u001b[K     |████████████▊                   | 614kB 16.4MB/s eta 0:00:01\r\u001b[K     |█████████████                   | 624kB 16.4MB/s eta 0:00:01\r\u001b[K     |█████████████▏                  | 634kB 16.4MB/s eta 0:00:01\r\u001b[K     |█████████████▍                  | 645kB 16.4MB/s eta 0:00:01\r\u001b[K     |█████████████▋                  | 655kB 16.4MB/s eta 0:00:01\r\u001b[K     |█████████████▊                  | 665kB 16.4MB/s eta 0:00:01\r\u001b[K     |██████████████                  | 675kB 16.4MB/s eta 0:00:01\r\u001b[K     |██████████████▏                 | 686kB 16.4MB/s eta 0:00:01\r\u001b[K     |██████████████▍                 | 696kB 16.4MB/s eta 0:00:01\r\u001b[K     |██████████████▋                 | 706kB 16.4MB/s eta 0:00:01\r\u001b[K     |██████████████▉                 | 716kB 16.4MB/s eta 0:00:01\r\u001b[K     |███████████████                 | 727kB 16.4MB/s eta 0:00:01\r\u001b[K     |███████████████▎                | 737kB 16.4MB/s eta 0:00:01\r\u001b[K     |███████████████▌                | 747kB 16.4MB/s eta 0:00:01\r\u001b[K     |███████████████▊                | 757kB 16.4MB/s eta 0:00:01\r\u001b[K     |████████████████                | 768kB 16.4MB/s eta 0:00:01\r\u001b[K     |████████████████                | 778kB 16.4MB/s eta 0:00:01\r\u001b[K     |████████████████▎               | 788kB 16.4MB/s eta 0:00:01\r\u001b[K     |████████████████▌               | 798kB 16.4MB/s eta 0:00:01\r\u001b[K     |████████████████▊               | 808kB 16.4MB/s eta 0:00:01\r\u001b[K     |█████████████████               | 819kB 16.4MB/s eta 0:00:01\r\u001b[K     |█████████████████▏              | 829kB 16.4MB/s eta 0:00:01\r\u001b[K     |█████████████████▍              | 839kB 16.4MB/s eta 0:00:01\r\u001b[K     |█████████████████▋              | 849kB 16.4MB/s eta 0:00:01\r\u001b[K     |█████████████████▉              | 860kB 16.4MB/s eta 0:00:01\r\u001b[K     |██████████████████              | 870kB 16.4MB/s eta 0:00:01\r\u001b[K     |██████████████████▏             | 880kB 16.4MB/s eta 0:00:01\r\u001b[K     |██████████████████▍             | 890kB 16.4MB/s eta 0:00:01\r\u001b[K     |██████████████████▋             | 901kB 16.4MB/s eta 0:00:01\r\u001b[K     |██████████████████▉             | 911kB 16.4MB/s eta 0:00:01\r\u001b[K     |███████████████████             | 921kB 16.4MB/s eta 0:00:01\r\u001b[K     |███████████████████▎            | 931kB 16.4MB/s eta 0:00:01\r\u001b[K     |███████████████████▌            | 942kB 16.4MB/s eta 0:00:01\r\u001b[K     |███████████████████▊            | 952kB 16.4MB/s eta 0:00:01\r\u001b[K     |████████████████████            | 962kB 16.4MB/s eta 0:00:01\r\u001b[K     |████████████████████▏           | 972kB 16.4MB/s eta 0:00:01\r\u001b[K     |████████████████████▍           | 983kB 16.4MB/s eta 0:00:01\r\u001b[K     |████████████████████▌           | 993kB 16.4MB/s eta 0:00:01\r\u001b[K     |████████████████████▊           | 1.0MB 16.4MB/s eta 0:00:01\r\u001b[K     |█████████████████████           | 1.0MB 16.4MB/s eta 0:00:01\r\u001b[K     |█████████████████████▏          | 1.0MB 16.4MB/s eta 0:00:01\r\u001b[K     |█████████████████████▍          | 1.0MB 16.4MB/s eta 0:00:01\r\u001b[K     |█████████████████████▋          | 1.0MB 16.4MB/s eta 0:00:01\r\u001b[K     |█████████████████████▉          | 1.1MB 16.4MB/s eta 0:00:01\r\u001b[K     |██████████████████████          | 1.1MB 16.4MB/s eta 0:00:01\r\u001b[K     |██████████████████████▎         | 1.1MB 16.4MB/s eta 0:00:01\r\u001b[K     |██████████████████████▌         | 1.1MB 16.4MB/s eta 0:00:01\r\u001b[K     |██████████████████████▊         | 1.1MB 16.4MB/s eta 0:00:01\r\u001b[K     |██████████████████████▉         | 1.1MB 16.4MB/s eta 0:00:01\r\u001b[K     |███████████████████████         | 1.1MB 16.4MB/s eta 0:00:01\r\u001b[K     |███████████████████████▎        | 1.1MB 16.4MB/s eta 0:00:01\r\u001b[K     |███████████████████████▌        | 1.1MB 16.4MB/s eta 0:00:01\r\u001b[K     |███████████████████████▊        | 1.1MB 16.4MB/s eta 0:00:01\r\u001b[K     |████████████████████████        | 1.2MB 16.4MB/s eta 0:00:01\r\u001b[K     |████████████████████████▏       | 1.2MB 16.4MB/s eta 0:00:01\r\u001b[K     |████████████████████████▍       | 1.2MB 16.4MB/s eta 0:00:01\r\u001b[K     |████████████████████████▋       | 1.2MB 16.4MB/s eta 0:00:01\r\u001b[K     |████████████████████████▉       | 1.2MB 16.4MB/s eta 0:00:01\r\u001b[K     |█████████████████████████       | 1.2MB 16.4MB/s eta 0:00:01\r\u001b[K     |█████████████████████████▏      | 1.2MB 16.4MB/s eta 0:00:01\r\u001b[K     |█████████████████████████▍      | 1.2MB 16.4MB/s eta 0:00:01\r\u001b[K     |█████████████████████████▋      | 1.2MB 16.4MB/s eta 0:00:01\r\u001b[K     |█████████████████████████▉      | 1.2MB 16.4MB/s eta 0:00:01\r\u001b[K     |██████████████████████████      | 1.3MB 16.4MB/s eta 0:00:01\r\u001b[K     |██████████████████████████▎     | 1.3MB 16.4MB/s eta 0:00:01\r\u001b[K     |██████████████████████████▌     | 1.3MB 16.4MB/s eta 0:00:01\r\u001b[K     |██████████████████████████▊     | 1.3MB 16.4MB/s eta 0:00:01\r\u001b[K     |███████████████████████████     | 1.3MB 16.4MB/s eta 0:00:01\r\u001b[K     |███████████████████████████▏    | 1.3MB 16.4MB/s eta 0:00:01\r\u001b[K     |███████████████████████████▎    | 1.3MB 16.4MB/s eta 0:00:01\r\u001b[K     |███████████████████████████▌    | 1.3MB 16.4MB/s eta 0:00:01\r\u001b[K     |███████████████████████████▊    | 1.3MB 16.4MB/s eta 0:00:01\r\u001b[K     |████████████████████████████    | 1.4MB 16.4MB/s eta 0:00:01\r\u001b[K     |████████████████████████████▏   | 1.4MB 16.4MB/s eta 0:00:01\r\u001b[K     |████████████████████████████▍   | 1.4MB 16.4MB/s eta 0:00:01\r\u001b[K     |████████████████████████████▋   | 1.4MB 16.4MB/s eta 0:00:01\r\u001b[K     |████████████████████████████▉   | 1.4MB 16.4MB/s eta 0:00:01\r\u001b[K     |█████████████████████████████   | 1.4MB 16.4MB/s eta 0:00:01\r\u001b[K     |█████████████████████████████▎  | 1.4MB 16.4MB/s eta 0:00:01\r\u001b[K     |█████████████████████████████▌  | 1.4MB 16.4MB/s eta 0:00:01\r\u001b[K     |█████████████████████████████▋  | 1.4MB 16.4MB/s eta 0:00:01\r\u001b[K     |█████████████████████████████▉  | 1.4MB 16.4MB/s eta 0:00:01\r\u001b[K     |██████████████████████████████  | 1.5MB 16.4MB/s eta 0:00:01\r\u001b[K     |██████████████████████████████▎ | 1.5MB 16.4MB/s eta 0:00:01\r\u001b[K     |██████████████████████████████▌ | 1.5MB 16.4MB/s eta 0:00:01\r\u001b[K     |██████████████████████████████▊ | 1.5MB 16.4MB/s eta 0:00:01\r\u001b[K     |███████████████████████████████ | 1.5MB 16.4MB/s eta 0:00:01\r\u001b[K     |███████████████████████████████▏| 1.5MB 16.4MB/s eta 0:00:01\r\u001b[K     |███████████████████████████████▍| 1.5MB 16.4MB/s eta 0:00:01\r\u001b[K     |███████████████████████████████▋| 1.5MB 16.4MB/s eta 0:00:01\r\u001b[K     |███████████████████████████████▉| 1.5MB 16.4MB/s eta 0:00:01\r\u001b[K     |████████████████████████████████| 1.5MB 16.4MB/s eta 0:00:01\r\u001b[K     |████████████████████████████████| 1.6MB 16.4MB/s \n",
            "\u001b[?25h  Installing build dependencies ... \u001b[?25l\u001b[?25hdone\n",
            "  Getting requirements to build wheel ... \u001b[?25l\u001b[?25hdone\n",
            "    Preparing wheel metadata ... \u001b[?25l\u001b[?25hdone\n",
            "Requirement already satisfied: numpy in /usr/local/lib/python3.7/dist-packages (from slycot) (1.19.5)\n",
            "Building wheels for collected packages: slycot\n",
            "  Building wheel for slycot (PEP 517) ... \u001b[?25l\u001b[?25hdone\n",
            "  Created wheel for slycot: filename=slycot-0.4.0-cp37-cp37m-linux_x86_64.whl size=1417830 sha256=0fffa84208b121d87e3b1f3a34308cd286fea66a25d592b136b4adc39f958802\n",
            "  Stored in directory: /root/.cache/pip/wheels/a2/46/56/f82cbb2fd06556f4f3952a2eb2396e8fd29264fffecbaad3cf\n",
            "Successfully built slycot\n",
            "Installing collected packages: slycot\n",
            "Successfully installed slycot-0.4.0\n",
            "Collecting control\n",
            "\u001b[?25l  Downloading https://files.pythonhosted.org/packages/88/87/ee6cb7cdcf4efe5634231bd688b307773629a100ec4c83b0c3eb03edd39d/control-0.9.0.tar.gz (339kB)\n",
            "\u001b[K     |████████████████████████████████| 348kB 16.1MB/s \n",
            "\u001b[?25hRequirement already satisfied: numpy in /usr/local/lib/python3.7/dist-packages (from control) (1.19.5)\n",
            "Requirement already satisfied: scipy in /usr/local/lib/python3.7/dist-packages (from control) (1.4.1)\n",
            "Requirement already satisfied: matplotlib in /usr/local/lib/python3.7/dist-packages (from control) (3.2.2)\n",
            "Requirement already satisfied: kiwisolver>=1.0.1 in /usr/local/lib/python3.7/dist-packages (from matplotlib->control) (1.3.1)\n",
            "Requirement already satisfied: python-dateutil>=2.1 in /usr/local/lib/python3.7/dist-packages (from matplotlib->control) (2.8.1)\n",
            "Requirement already satisfied: pyparsing!=2.0.4,!=2.1.2,!=2.1.6,>=2.0.1 in /usr/local/lib/python3.7/dist-packages (from matplotlib->control) (2.4.7)\n",
            "Requirement already satisfied: cycler>=0.10 in /usr/local/lib/python3.7/dist-packages (from matplotlib->control) (0.10.0)\n",
            "Requirement already satisfied: six>=1.5 in /usr/local/lib/python3.7/dist-packages (from python-dateutil>=2.1->matplotlib->control) (1.15.0)\n",
            "Building wheels for collected packages: control\n",
            "  Building wheel for control (setup.py) ... \u001b[?25l\u001b[?25hdone\n",
            "  Created wheel for control: filename=control-0.9.0-py2.py3-none-any.whl size=344920 sha256=82844f358909e944f335cabd186cc5f7d97ef18079580847ee58cf2b5811534d\n",
            "  Stored in directory: /root/.cache/pip/wheels/35/be/ee/081b68ca3e4b2d253fba2f7f7e51960373903fb7b6d13c5532\n",
            "Successfully built control\n",
            "Installing collected packages: control\n",
            "Successfully installed control-0.9.0\n"
          ],
          "name": "stdout"
        }
      ]
    },
    {
      "cell_type": "code",
      "metadata": {
        "id": "OeisvGZDDBPe"
      },
      "source": [
        "import numpy as np\n",
        "import matplotlib.pyplot as plt\n",
        "import control as ctl"
      ],
      "execution_count": 2,
      "outputs": []
    },
    {
      "cell_type": "markdown",
      "metadata": {
        "id": "zuBfsE9mDBPf"
      },
      "source": [
        "The cell below contains step response data captured from a PID controller\n",
        "$$\n",
        "C(s) = K_p + \\frac{K_i}{s} + \\frac{NK_d}{1+N/s}\n",
        "$$\n",
        "with 3rd order lag plant\n",
        "$$\n",
        "P(s) = \\frac{1}{(s+1)^3}\n",
        "$$\n",
        "\n"
      ]
    },
    {
      "cell_type": "code",
      "metadata": {
        "id": "jEnrVCRSDBPf"
      },
      "source": [
        "datamat = np.array([\n",
        "[0.06, 0.30, 0.10, 3.30],\n",
        "[0.12, 0.30, 0.10, 2.64],\n",
        "[0.18, 0.30, 0.10, 1.53],\n",
        "[0.24, 0.30, 0.10, 1.34],\n",
        "[0.30, 0.30, 0.10, 1.29],\n",
        "[0.36, 0.30, 0.11, 1.17],\n",
        "[0.42, 0.30, 0.11, 1.27],\n",
        "[0.48, 0.30, 0.12, 1.16],\n",
        "[0.54, 0.30, 0.12, 1.13],\n",
        "[0.60, 0.30, 0.13, 1.05],\n",
        "[0.66, 0.30, 0.14, 1.06],\n",
        "[0.72, 0.30, 0.15, 0.98],\n",
        "[0.78, 0.30, 0.16, 1.07],\n",
        "[0.84, 0.30, 0.17, 0.92],\n",
        "[0.90, 0.30, 0.18, 0.85],\n",
        "[0.96, 0.30, 0.19, 0.76],\n",
        "[1.02, 0.30, 0.20, 0.78],\n",
        "[1.08, 0.30, 0.21, 0.70],\n",
        "[1.14, 0.30, 0.22, 0.73],\n",
        "[1.20, 0.30, 0.24, 0.61],\n",
        "[1.26, 0.30, 0.25, 0.61],\n",
        "[1.32, 0.30, 0.26, 0.50],\n",
        "[1.38, 0.30, 0.27, 0.51],\n",
        "[1.44, 0.30, 0.28, 0.40],\n",
        "[1.50, 0.30, 0.30, 0.33],\n",
        "[1.56, 0.30, 0.31, 0.31],\n",
        "[1.62, 0.30, 0.32, 0.32],\n",
        "[1.68, 0.30, 0.32, 0.35],\n",
        "[1.74, 0.30, 0.34, 0.16],\n",
        "[1.80, 0.30, 0.35, 0.18],\n",
        "[1.86, 0.30, 0.35, 0.20],\n",
        "[1.92, 0.30, 0.36, 0.17],\n",
        "[1.98, 0.30, 0.37, 0.18],\n",
        "[2.04, 0.30, 0.37, 0.10],\n",
        "[2.10, 0.30, 0.38, 0.10],\n",
        "[2.16, 0.30, 0.39, 0.04],\n",
        "[2.22, 0.30, 0.39, 0.09],\n",
        "[2.28, 0.30, 0.39, 0.08],\n",
        "[2.34, 0.30, 0.40, 0.00],\n",
        "[2.40, 0.30, 0.40, 0.06],\n",
        "[2.46, 0.30, 0.40, 0.08],\n",
        "[2.52, 0.30, 0.40, 0.06],\n",
        "[2.58, 0.30, 0.40, 0.12],\n",
        "[2.64, 0.30, 0.40, 0.05],\n",
        "[2.70, 0.30, 0.40, 0.07],\n",
        "[2.76, 0.30, 0.40, 0.12],\n",
        "[2.82, 0.30, 0.40, 0.10],\n",
        "[2.88, 0.30, 0.39, 0.16],\n",
        "[2.94, 0.30, 0.39, 0.13],\n",
        "[3.00, 0.30, 0.39, 0.17],\n",
        "[3.06, 0.30, 0.38, 0.31],\n",
        "[3.12, 0.30, 0.37, 0.22],\n",
        "[3.18, 0.30, 0.37, 0.17],\n",
        "[3.24, 0.30, 0.37, 0.29],\n",
        "[3.30, 0.30, 0.36, 0.28],\n",
        "[3.36, 0.30, 0.36, 0.24],\n",
        "[3.42, 0.30, 0.35, 0.41],\n",
        "[3.48, 0.30, 0.34, 0.33],\n",
        "[3.54, 0.30, 0.34, 0.39],\n",
        "[3.60, 0.30, 0.33, 0.43],\n",
        "[3.66, 0.30, 0.32, 0.46],\n",
        "[3.72, 0.30, 0.32, 0.44],\n",
        "[3.78, 0.30, 0.31, 0.55],\n",
        "[3.84, 0.30, 0.31, 0.45],\n",
        "[3.90, 0.30, 0.30, 0.54],\n",
        "[3.96, 0.30, 0.30, 0.56],\n",
        "[4.02, 0.30, 0.30, 0.44],\n",
        "[4.08, 0.30, 0.29, 0.58],\n",
        "[4.14, 0.30, 0.28, 0.62],\n",
        "[4.20, 0.30, 0.28, 0.50],\n",
        "[4.26, 0.30, 0.28, 0.68],\n",
        "[4.32, 0.30, 0.27, 0.63],\n",
        "[4.38, 0.30, 0.27, 0.58],\n",
        "[4.44, 0.30, 0.27, 0.60],\n",
        "[4.50, 0.30, 0.27, 0.60],\n",
        "[4.56, 0.30, 0.26, 0.63],\n",
        "[4.62, 0.30, 0.26, 0.63],\n",
        "[4.68, 0.30, 0.26, 0.64],\n",
        "[4.74, 0.30, 0.26, 0.60],\n",
        "[4.80, 0.30, 0.26, 0.62],\n",
        "[4.86, 0.30, 0.26, 0.63],\n",
        "[4.92, 0.30, 0.26, 0.59],\n",
        "[4.98, 0.30, 0.26, 0.61],\n",
        "[5.04, 0.30, 0.26, 0.62],\n",
        "[5.10, 0.30, 0.26, 0.58],\n",
        "[5.16, 0.30, 0.26, 0.56],\n",
        "[5.22, 0.30, 0.27, 0.53],\n",
        "[5.28, 0.30, 0.27, 0.62],\n",
        "[5.34, 0.30, 0.27, 0.55],\n",
        "[5.40, 0.30, 0.27, 0.53],\n",
        "[5.46, 0.30, 0.27, 0.57],\n",
        "[5.52, 0.30, 0.27, 0.60],\n",
        "[5.58, 0.30, 0.28, 0.47],\n",
        "[5.64, 0.30, 0.28, 0.44],\n",
        "[5.70, 0.30, 0.28, 0.47],\n",
        "[5.76, 0.30, 0.28, 0.55],\n",
        "[5.82, 0.30, 0.29, 0.42],\n",
        "[5.88, 0.30, 0.29, 0.40],\n",
        "[5.94, 0.30, 0.29, 0.43],\n",
        "[6.00, 0.30, 0.30, 0.40],\n",
        "[6.06, 0.30, 0.30, 0.43],\n",
        "[6.12, 0.30, 0.30, 0.49],\n",
        "[6.18, 0.30, 0.30, 0.37],\n",
        "[6.24, 0.30, 0.31, 0.36],\n",
        "[6.30, 0.30, 0.31, 0.34],\n",
        "[6.36, 0.30, 0.31, 0.40],\n",
        "[6.42, 0.30, 0.31, 0.41],\n",
        "[6.48, 0.30, 0.31, 0.41],\n",
        "[6.54, 0.30, 0.31, 0.35],\n",
        "[6.60, 0.30, 0.31, 0.40],\n",
        "[6.66, 0.30, 0.32, 0.34],\n",
        "[6.72, 0.30, 0.32, 0.31],\n",
        "[6.78, 0.30, 0.32, 0.37],\n",
        "[6.84, 0.30, 0.32, 0.38],\n",
        "[6.90, 0.30, 0.32, 0.38],\n",
        "[6.96, 0.30, 0.32, 0.30],\n",
        "[7.02, 0.30, 0.32, 0.35],\n",
        "[7.08, 0.30, 0.32, 0.33],\n",
        "[7.14, 0.30, 0.32, 0.32],\n",
        "[7.20, 0.30, 0.32, 0.34],\n",
        "[7.26, 0.30, 0.32, 0.42],\n",
        "[7.32, 0.30, 0.32, 0.39],\n",
        "[7.38, 0.30, 0.32, 0.39],\n",
        "[7.44, 0.30, 0.32, 0.36],\n",
        "[7.50, 0.30, 0.32, 0.40],\n",
        "[7.56, 0.30, 0.32, 0.42],\n",
        "[7.62, 0.30, 0.32, 0.37],\n",
        "[7.68, 0.30, 0.31, 0.41],\n",
        "[7.74, 0.30, 0.31, 0.40],\n",
        "[7.80, 0.30, 0.31, 0.42],\n",
        "[7.86, 0.30, 0.31, 0.43],\n",
        "[7.92, 0.30, 0.31, 0.39],\n",
        "[7.98, 0.30, 0.31, 0.38],\n",
        "[8.04, 0.30, 0.31, 0.38],\n",
        "[8.10, 0.30, 0.31, 0.50],\n",
        "[8.16, 0.30, 0.30, 0.44],\n",
        "[8.22, 0.30, 0.30, 0.43],\n",
        "[8.28, 0.30, 0.30, 0.46],\n",
        "[8.34, 0.30, 0.30, 0.47],\n",
        "[8.40, 0.30, 0.30, 0.48],\n",
        "[8.46, 0.30, 0.30, 0.49],\n",
        "[8.52, 0.30, 0.30, 0.42],\n",
        "[8.58, 0.30, 0.30, 0.47],\n",
        "[8.64, 0.30, 0.30, 0.44],\n",
        "[8.70, 0.30, 0.30, 0.44],\n",
        "[8.76, 0.30, 0.29, 0.49],\n",
        "[8.82, 0.30, 0.29, 0.48],\n",
        "[8.88, 0.30, 0.29, 0.43],\n",
        "[8.94, 0.30, 0.29, 0.47],\n",
        "[9.00, 0.30, 0.29, 0.48],\n",
        "[9.06, 0.30, 0.29, 0.44],\n",
        "[9.12, 0.30, 0.29, 0.50],\n",
        "[9.18, 0.30, 0.29, 0.52],\n",
        "[9.24, 0.30, 0.29, 0.48],\n",
        "[9.30, 0.30, 0.29, 0.45],\n",
        "[9.36, 0.30, 0.29, 0.49],\n",
        "[9.42, 0.30, 0.29, 0.45],\n",
        "[9.48, 0.30, 0.29, 0.47],\n",
        "[9.54, 0.30, 0.29, 0.55],\n",
        "[9.60, 0.30, 0.29, 0.45],\n",
        "[9.66, 0.30, 0.29, 0.42],\n",
        "[9.72, 0.30, 0.29, 0.46],\n",
        "[9.78, 0.30, 0.29, 0.45],\n",
        "[9.84, 0.30, 0.29, 0.49],\n",
        "[9.90, 0.30, 0.29, 0.43],\n",
        "[9.96, 0.30, 0.29, 0.46],\n",
        "[10.02, 0.30, 0.29, 0.47],\n",
        "[10.08, 0.30, 0.30, 0.40],\n",
        "[10.14, 0.30, 0.30, 0.47],\n",
        "[10.20, 0.30, 0.30, 0.44],\n",
        "[10.26, 0.30, 0.30, 0.46],\n",
        "[10.32, 0.30, 0.30, 0.46],\n",
        "[10.38, 0.30, 0.30, 0.46],\n",
        "[10.44, 0.30, 0.30, 0.47],\n",
        "[10.50, 0.30, 0.30, 0.47],\n",
        "[10.56, 0.30, 0.30, 0.47],\n",
        "[10.62, 0.30, 0.30, 0.42],\n",
        "[10.68, 0.30, 0.30, 0.45],\n",
        "[10.74, 0.30, 0.30, 0.46],\n",
        "[10.80, 0.30, 0.30, 0.41],\n",
        "[10.86, 0.30, 0.30, 0.42],\n",
        "[10.92, 0.30, 0.30, 0.49],\n",
        "[10.98, 0.30, 0.30, 0.44],\n",
        "[11.04, 0.30, 0.30, 0.47],\n",
        "[11.10, 0.30, 0.30, 0.41],\n",
        "[11.16, 0.30, 0.30, 0.39],\n",
        "[11.22, 0.30, 0.30, 0.40],\n",
        "[11.28, 0.30, 0.30, 0.45],\n",
        "[11.34, 0.30, 0.30, 0.39],\n",
        "[11.40, 0.30, 0.30, 0.40],\n",
        "[11.46, 0.30, 0.31, 0.39],\n",
        "[11.52, 0.30, 0.30, 0.44],\n",
        "[11.58, 0.30, 0.30, 0.48],\n",
        "[11.64, 0.30, 0.31, 0.37],\n",
        "[11.70, 0.30, 0.30, 0.46],\n",
        "[11.76, 0.30, 0.30, 0.41],\n",
        "[11.82, 0.30, 0.30, 0.44],\n",
        "[11.88, 0.30, 0.31, 0.38],\n",
        "[11.94, 0.30, 0.31, 0.41],\n",
        "[12.00, 0.30, 0.30, 0.46],\n",
        "])\n"
      ],
      "execution_count": 3,
      "outputs": []
    },
    {
      "cell_type": "markdown",
      "metadata": {
        "id": "Dl81zYEsDBPj"
      },
      "source": [
        "The rows of datamat array are the data points. Columns 0 - 3 are time, reference command, plant output, and controller \n",
        "output, respectively.\n",
        "\n",
        "Write a function to compare responses between simulation and experimental data \n",
        "\n",
        "Your function should produce a step response comparison that looks like Figure 1\n",
        "\n",
        "<p align=\"center\">\n",
        "<img src=\"https://drive.google.com/uc?id=1j4gDPQe_AaygVcKIE_YMevCOFGT_w_JK\" alt=\"Figure 1\"/>\n",
        "</p>\n",
        "<div align=\"center\"><b>Figure 1 step response comparison</b></div>\n",
        "\n",
        "<em>Hint : </em>Watch a video clip in Workshop 2 of the course github.\n",
        "\n",
        "### Solution"
      ]
    },
    {
      "cell_type": "code",
      "metadata": {
        "id": "td6Ns6KVDBPm"
      },
      "source": [
        "def pid_compare(kp, ki, kd, datamat,scale=1):\n",
        "    tvec = datamat[:,0]\n",
        "    rvec = datamat[:,1]\n",
        "    yvec = datamat[:,2]\n",
        "    uvec = datamat[:,3]\n",
        "    s = ctl.tf('s')\n",
        "    # 3rd-order lag plant\n",
        "    P = 1/((s+1)**3)\n",
        "    # PID controller\n",
        "    N = 20\n",
        "    C_c = kp + ki/s +s*N*kd/(s+N)\n",
        "    L_c = C_c*P\n",
        "    sys_c = ctl.feedback(L_c)\n",
        "    #simulate\n",
        "    Tv, y_c = ctl.step_response(sys_c, tvec, X0=0.1/scale)\n",
        "    # plot the comparison\n",
        "    fig, (ax1, ax2) = plt.subplots(2,figsize=(12,12))\n",
        "    #fig.suptitle('Step response comparison')\n",
        "    ax1.set_title('Step response comparison')\n",
        "    ax1.plot(tvec, rvec, 'g-.', tvec, scale*y_c, 'b-', tvec, yvec, 'r-')\n",
        "    #ax1.set_xlabel('time (sec))\n",
        "    ax1.set_ylabel('$y(t)$ (volts)')\n",
        "    ax1.legend(['ref.cmd', 'simulated plant output', 'experimental plant output'])\n",
        "    ax1.grid(True)\n",
        "    ax2.plot(tvec, uvec, 'm-')\n",
        "    ax2.set_xlabel(':time (sec)')\n",
        "    ax2.set_ylabel('$u(t)$ (volts)')\n",
        "    ax2.grid(True)\n",
        "    ax2.set_title('Controller output')\n",
        "    plt.show()"
      ],
      "execution_count": 4,
      "outputs": []
    },
    {
      "cell_type": "code",
      "metadata": {
        "scrolled": true,
        "id": "in235EcvDBPn",
        "outputId": "94db592b-2920-4afa-a6f8-f7cc26a2f9f4",
        "colab": {
          "base_uri": "https://localhost:8080/",
          "height": 784
        }
      },
      "source": [
        "# invoke the function to create a plot\n",
        "kp = 4.8\n",
        "ki = 2.74\n",
        "kd = 2.1\n",
        "pid_compare(kp,ki,kd,datamat,scale=0.3)"
      ],
      "execution_count": 5,
      "outputs": [
        {
          "output_type": "stream",
          "text": [
            "/usr/local/lib/python3.7/dist-packages/control/timeresp.py:703: UserWarning: Non-zero initial condition given for transfer function system. Internal conversion to state space used; may not be consistent with given X0.\n",
            "  \"Non-zero initial condition given for transfer function system. \"\n"
          ],
          "name": "stderr"
        },
        {
          "output_type": "display_data",
          "data": {
            "image/png": "[encoded data removed]",
            "text/plain": [
              "<Figure size 864x864 with 2 Axes>"
            ]
          },
          "metadata": {
            "tags": [],
            "needs_background": "light"
          }
        }
      ]
    },
    {
      "cell_type": "code",
      "metadata": {
        "id": "9CbgC8eTDBPn"
      },
      "source": [
        ""
      ],
      "execution_count": null,
      "outputs": []
    },
    {
      "cell_type": "code",
      "metadata": {
        "id": "Owc062rDDBPo"
      },
      "source": [
        ""
      ],
      "execution_count": null,
      "outputs": []
    }
  ]
}